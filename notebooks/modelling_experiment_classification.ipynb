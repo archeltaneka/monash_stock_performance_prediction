{
 "cells": [
  {
   "cell_type": "markdown",
   "metadata": {},
   "source": [
    "# FIT5149 - Applied Data Analysis: Assignment 1 (Monthly Stock Prediction: ClassificationModelling)\n",
    "\n",
    "This notebook focuses on the classification task of monthly stock prediction, where the goal is to predict whether a stock will achieve a positive or negative excess return (`outperform_binary`).\n",
    "\n",
    "The same workflow can be applied to the regression task, where the target variable is the continuous excess return (`excess_return`).\n",
    "\n",
    "To ensure modularity and reusability, all key functionalities demonstrated here have been refactored into the `src/` scripts directory. This allows us to keep the notebook clean while enabling easy experimentation and reuse across both tasks."
   ]
  },
  {
   "cell_type": "code",
   "execution_count": 1,
   "metadata": {},
   "outputs": [
    {
     "name": "stderr",
     "output_type": "stream",
     "text": [
      "c:\\Users\\Archel\\anaconda3\\envs\\fit5149\\lib\\site-packages\\tqdm\\auto.py:21: TqdmWarning: IProgress not found. Please update jupyter and ipywidgets. See https://ipywidgets.readthedocs.io/en/stable/user_install.html\n",
      "  from .autonotebook import tqdm as notebook_tqdm\n"
     ]
    }
   ],
   "source": [
    "import pickle\n",
    "import glob\n",
    "from pathlib import Path\n",
    "\n",
    "import pandas as pd\n",
    "import numpy as np\n",
    "from scipy.stats import randint, loguniform, uniform\n",
    "\n",
    "import matplotlib.pyplot as plt\n",
    "import seaborn as sns\n",
    "import shap\n",
    "\n",
    "from sklearn.base import BaseEstimator, TransformerMixin\n",
    "from sklearn.model_selection import GridSearchCV, RandomizedSearchCV\n",
    "from sklearn.preprocessing import OneHotEncoder, OrdinalEncoder, StandardScaler\n",
    "from sklearn.compose import ColumnTransformer\n",
    "from sklearn.pipeline import Pipeline\n",
    "from sklearn.feature_selection import SelectFromModel\n",
    "\n",
    "from sklearn.metrics import classification_report, accuracy_score, mean_squared_error, f1_score\n",
    "\n",
    "from sklearn.dummy import DummyClassifier\n",
    "from sklearn.linear_model import LinearRegression, LogisticRegression, Ridge, Lasso\n",
    "from sklearn.ensemble import RandomForestClassifier, RandomForestRegressor, VotingClassifier\n",
    "from sklearn.svm import SVC, SVR\n",
    "import xgboost as xgb\n",
    "from catboost import CatBoostClassifier, CatBoostRegressor"
   ]
  },
  {
   "cell_type": "markdown",
   "metadata": {},
   "source": [
    "## 1. Loading Data\n",
    "\n",
    "Our dataset is made up of several key components, grouped into core data and optional macroeconomic data.\n",
    "\n",
    "### Core Data\n",
    "1. `stock_data.csv`: Historical monthly stock-level data.\n",
    "\n",
    "2. `company_info.csv`: Company profile information, including sector, business model, business maturity, market cap category, revenue tier, and other attributes that describe each company.\n",
    "\n",
    "3. `monashIndex.csv`: A benchmark index (similar to the S&P 500). For example, the excess_return label in our regression task is derived from the index_return column in this dataset.\n",
    "\n",
    "4. `training_targets.csv`: Ground-truth labels for training. It contains:\n",
    "- `outperform_binary`: For the classification task.\n",
    "- `excess_return`: For the regression task.\n",
    "\n",
    "5. `testing_targets.csv`: Similar to the training targets, but used for model evaluation and submission.\n",
    "\n",
    "### Macroeconomic Data\n",
    "1. `fed_funds_rate.csv`: The interest rate at which banks lend reserves to each other overnight.\n",
    "\n",
    "2. `fed_inflation_rate.csv`: Measures the pace of price increases in the economy (commonly via CPI).\n",
    "\n",
    "3. `fed_unemployment_rate.csv`: Percentage of the labor force that is unemployed but actively seeking work.\n",
    "\n",
    "4. `us_5_year_treasury.csv`: Mid-term government bond yield, often compared against the 10-year rate.\n",
    "\n",
    "5. `us_10_year_treasury.csv`: Long-term government bond yield, commonly treated as the benchmark “risk-free rate.”\n",
    "\n",
    "6. `vix_index.csv`: A measure of expected near-term market volatility, derived from S&P 500 options (often referred to as the “fear index”)."
   ]
  },
  {
   "cell_type": "code",
   "execution_count": 2,
   "metadata": {},
   "outputs": [],
   "source": [
    "def load_data(data_dir=\"../data\"):\n",
    "    # Primary data\n",
    "    primary_data_dir = Path(data_dir)\n",
    "    stock = pd.read_csv(primary_data_dir/\"stock_data.csv\")\n",
    "    company = pd.read_csv(primary_data_dir/\"company_info.csv\")\n",
    "    index = pd.read_csv(primary_data_dir/\"monashIndex.csv\")\n",
    "    train_targets = pd.read_csv(primary_data_dir/\"training_targets.csv\")\n",
    "\n",
    "    # Optional data\n",
    "    optional_data_dir = primary_data_dir/\"optional_data\"\n",
    "    optional_data_list = []\n",
    "    for fname in optional_data_dir.glob(\"*.csv\"):\n",
    "        optional_data_list.append(pd.read_csv(fname))\n",
    "    \n",
    "    return stock, company, index, train_targets, optional_data_list"
   ]
  },
  {
   "cell_type": "code",
   "execution_count": 3,
   "metadata": {},
   "outputs": [],
   "source": [
    "stock, company, index, train_targets, optional_data_list = load_data()"
   ]
  },
  {
   "cell_type": "code",
   "execution_count": 4,
   "metadata": {},
   "outputs": [
    {
     "data": {
      "text/html": [
       "<div>\n",
       "<style scoped>\n",
       "    .dataframe tbody tr th:only-of-type {\n",
       "        vertical-align: middle;\n",
       "    }\n",
       "\n",
       "    .dataframe tbody tr th {\n",
       "        vertical-align: top;\n",
       "    }\n",
       "\n",
       "    .dataframe thead th {\n",
       "        text-align: right;\n",
       "    }\n",
       "</style>\n",
       "<table border=\"1\" class=\"dataframe\">\n",
       "  <thead>\n",
       "    <tr style=\"text-align: right;\">\n",
       "      <th></th>\n",
       "      <th>stock_id</th>\n",
       "      <th>month_id</th>\n",
       "      <th>month_start_open_usd</th>\n",
       "      <th>month_end_close_usd</th>\n",
       "      <th>month_high_usd</th>\n",
       "      <th>month_low_usd</th>\n",
       "      <th>monthly_volume</th>\n",
       "      <th>intramonth_return</th>\n",
       "      <th>return_1m</th>\n",
       "      <th>return_3m</th>\n",
       "      <th>return_6m</th>\n",
       "      <th>intramonth_volatility</th>\n",
       "      <th>volatility_3m</th>\n",
       "      <th>volatility_6m</th>\n",
       "      <th>trading_days</th>\n",
       "      <th>avg_volume_3m</th>\n",
       "      <th>volume_ratio</th>\n",
       "      <th>price_range_ratio</th>\n",
       "    </tr>\n",
       "  </thead>\n",
       "  <tbody>\n",
       "    <tr>\n",
       "      <th>0</th>\n",
       "      <td>US001</td>\n",
       "      <td>2020_01</td>\n",
       "      <td>120.192</td>\n",
       "      <td>107.326</td>\n",
       "      <td>123.486</td>\n",
       "      <td>107.035</td>\n",
       "      <td>84539259</td>\n",
       "      <td>-0.107045</td>\n",
       "      <td>-0.100669</td>\n",
       "      <td>-0.030041</td>\n",
       "      <td>-0.075676</td>\n",
       "      <td>0.253304</td>\n",
       "      <td>0.278396</td>\n",
       "      <td>0.201608</td>\n",
       "      <td>21</td>\n",
       "      <td>3182487.0</td>\n",
       "      <td>1.207</td>\n",
       "      <td>0.136875</td>\n",
       "    </tr>\n",
       "    <tr>\n",
       "      <th>1</th>\n",
       "      <td>US001</td>\n",
       "      <td>2020_02</td>\n",
       "      <td>108.252</td>\n",
       "      <td>101.868</td>\n",
       "      <td>111.641</td>\n",
       "      <td>99.636</td>\n",
       "      <td>91313882</td>\n",
       "      <td>-0.058974</td>\n",
       "      <td>-0.050854</td>\n",
       "      <td>-0.112968</td>\n",
       "      <td>-0.060752</td>\n",
       "      <td>0.259208</td>\n",
       "      <td>0.245523</td>\n",
       "      <td>0.192782</td>\n",
       "      <td>19</td>\n",
       "      <td>3686371.0</td>\n",
       "      <td>1.126</td>\n",
       "      <td>0.110905</td>\n",
       "    </tr>\n",
       "    <tr>\n",
       "      <th>2</th>\n",
       "      <td>US001</td>\n",
       "      <td>2020_03</td>\n",
       "      <td>103.301</td>\n",
       "      <td>93.178</td>\n",
       "      <td>105.622</td>\n",
       "      <td>77.841</td>\n",
       "      <td>177930833</td>\n",
       "      <td>-0.097995</td>\n",
       "      <td>-0.085299</td>\n",
       "      <td>-0.219214</td>\n",
       "      <td>-0.154874</td>\n",
       "      <td>0.892709</td>\n",
       "      <td>0.088364</td>\n",
       "      <td>0.213051</td>\n",
       "      <td>22</td>\n",
       "      <td>5360363.0</td>\n",
       "      <td>1.509</td>\n",
       "      <td>0.268931</td>\n",
       "    </tr>\n",
       "  </tbody>\n",
       "</table>\n",
       "</div>"
      ],
      "text/plain": [
       "  stock_id month_id  month_start_open_usd  month_end_close_usd  \\\n",
       "0    US001  2020_01               120.192              107.326   \n",
       "1    US001  2020_02               108.252              101.868   \n",
       "2    US001  2020_03               103.301               93.178   \n",
       "\n",
       "   month_high_usd  month_low_usd  monthly_volume  intramonth_return  \\\n",
       "0         123.486        107.035        84539259          -0.107045   \n",
       "1         111.641         99.636        91313882          -0.058974   \n",
       "2         105.622         77.841       177930833          -0.097995   \n",
       "\n",
       "   return_1m  return_3m  return_6m  intramonth_volatility  volatility_3m  \\\n",
       "0  -0.100669  -0.030041  -0.075676               0.253304       0.278396   \n",
       "1  -0.050854  -0.112968  -0.060752               0.259208       0.245523   \n",
       "2  -0.085299  -0.219214  -0.154874               0.892709       0.088364   \n",
       "\n",
       "   volatility_6m  trading_days  avg_volume_3m  volume_ratio  price_range_ratio  \n",
       "0       0.201608            21      3182487.0         1.207           0.136875  \n",
       "1       0.192782            19      3686371.0         1.126           0.110905  \n",
       "2       0.213051            22      5360363.0         1.509           0.268931  "
      ]
     },
     "execution_count": 4,
     "metadata": {},
     "output_type": "execute_result"
    }
   ],
   "source": [
    "stock.head(3)"
   ]
  },
  {
   "cell_type": "code",
   "execution_count": 5,
   "metadata": {},
   "outputs": [
    {
     "data": {
      "text/html": [
       "<div>\n",
       "<style scoped>\n",
       "    .dataframe tbody tr th:only-of-type {\n",
       "        vertical-align: middle;\n",
       "    }\n",
       "\n",
       "    .dataframe tbody tr th {\n",
       "        vertical-align: top;\n",
       "    }\n",
       "\n",
       "    .dataframe thead th {\n",
       "        text-align: right;\n",
       "    }\n",
       "</style>\n",
       "<table border=\"1\" class=\"dataframe\">\n",
       "  <thead>\n",
       "    <tr style=\"text-align: right;\">\n",
       "      <th></th>\n",
       "      <th>stock_id</th>\n",
       "      <th>sector</th>\n",
       "      <th>business_model</th>\n",
       "      <th>geographic_focus</th>\n",
       "      <th>business_maturity</th>\n",
       "      <th>competitive_position</th>\n",
       "      <th>market_cap_category</th>\n",
       "      <th>revenue_tier</th>\n",
       "      <th>profitability_profile</th>\n",
       "      <th>asset_intensity</th>\n",
       "      <th>financial_strength</th>\n",
       "    </tr>\n",
       "  </thead>\n",
       "  <tbody>\n",
       "    <tr>\n",
       "      <th>0</th>\n",
       "      <td>US001</td>\n",
       "      <td>Industrials</td>\n",
       "      <td>B2B</td>\n",
       "      <td>Domestic</td>\n",
       "      <td>Mature</td>\n",
       "      <td>Market_Leader</td>\n",
       "      <td>Large</td>\n",
       "      <td>Tier_1</td>\n",
       "      <td>Standard</td>\n",
       "      <td>Moderate</td>\n",
       "      <td>Stable</td>\n",
       "    </tr>\n",
       "    <tr>\n",
       "      <th>1</th>\n",
       "      <td>US002</td>\n",
       "      <td>Industrials</td>\n",
       "      <td>B2B</td>\n",
       "      <td>Global</td>\n",
       "      <td>Growth</td>\n",
       "      <td>Strong_Player</td>\n",
       "      <td>Mid</td>\n",
       "      <td>Tier_2</td>\n",
       "      <td>Standard</td>\n",
       "      <td>Capital_Intensive</td>\n",
       "      <td>Stable</td>\n",
       "    </tr>\n",
       "    <tr>\n",
       "      <th>2</th>\n",
       "      <td>US003</td>\n",
       "      <td>Healthcare</td>\n",
       "      <td>B2C</td>\n",
       "      <td>Global</td>\n",
       "      <td>Mature</td>\n",
       "      <td>Market_Leader</td>\n",
       "      <td>Large</td>\n",
       "      <td>Tier_1</td>\n",
       "      <td>High_Margin</td>\n",
       "      <td>Moderate</td>\n",
       "      <td>Stable</td>\n",
       "    </tr>\n",
       "  </tbody>\n",
       "</table>\n",
       "</div>"
      ],
      "text/plain": [
       "  stock_id       sector business_model geographic_focus business_maturity  \\\n",
       "0    US001  Industrials            B2B         Domestic            Mature   \n",
       "1    US002  Industrials            B2B           Global            Growth   \n",
       "2    US003   Healthcare            B2C           Global            Mature   \n",
       "\n",
       "  competitive_position market_cap_category revenue_tier profitability_profile  \\\n",
       "0        Market_Leader               Large       Tier_1              Standard   \n",
       "1        Strong_Player                 Mid       Tier_2              Standard   \n",
       "2        Market_Leader               Large       Tier_1           High_Margin   \n",
       "\n",
       "     asset_intensity financial_strength  \n",
       "0           Moderate             Stable  \n",
       "1  Capital_Intensive             Stable  \n",
       "2           Moderate             Stable  "
      ]
     },
     "execution_count": 5,
     "metadata": {},
     "output_type": "execute_result"
    }
   ],
   "source": [
    "company.head(3)"
   ]
  },
  {
   "cell_type": "code",
   "execution_count": 6,
   "metadata": {},
   "outputs": [
    {
     "data": {
      "text/html": [
       "<div>\n",
       "<style scoped>\n",
       "    .dataframe tbody tr th:only-of-type {\n",
       "        vertical-align: middle;\n",
       "    }\n",
       "\n",
       "    .dataframe tbody tr th {\n",
       "        vertical-align: top;\n",
       "    }\n",
       "\n",
       "    .dataframe thead th {\n",
       "        text-align: right;\n",
       "    }\n",
       "</style>\n",
       "<table border=\"1\" class=\"dataframe\">\n",
       "  <thead>\n",
       "    <tr style=\"text-align: right;\">\n",
       "      <th></th>\n",
       "      <th>month_id</th>\n",
       "      <th>index_return</th>\n",
       "      <th>index_value</th>\n",
       "    </tr>\n",
       "  </thead>\n",
       "  <tbody>\n",
       "    <tr>\n",
       "      <th>0</th>\n",
       "      <td>2020_01</td>\n",
       "      <td>-0.006452</td>\n",
       "      <td>99.354842</td>\n",
       "    </tr>\n",
       "    <tr>\n",
       "      <th>1</th>\n",
       "      <td>2020_02</td>\n",
       "      <td>-0.053054</td>\n",
       "      <td>94.083684</td>\n",
       "    </tr>\n",
       "    <tr>\n",
       "      <th>2</th>\n",
       "      <td>2020_03</td>\n",
       "      <td>-0.111379</td>\n",
       "      <td>83.604709</td>\n",
       "    </tr>\n",
       "  </tbody>\n",
       "</table>\n",
       "</div>"
      ],
      "text/plain": [
       "  month_id  index_return  index_value\n",
       "0  2020_01     -0.006452    99.354842\n",
       "1  2020_02     -0.053054    94.083684\n",
       "2  2020_03     -0.111379    83.604709"
      ]
     },
     "execution_count": 6,
     "metadata": {},
     "output_type": "execute_result"
    }
   ],
   "source": [
    "index.head(3)"
   ]
  },
  {
   "cell_type": "code",
   "execution_count": 7,
   "metadata": {},
   "outputs": [
    {
     "data": {
      "text/html": [
       "<div>\n",
       "<style scoped>\n",
       "    .dataframe tbody tr th:only-of-type {\n",
       "        vertical-align: middle;\n",
       "    }\n",
       "\n",
       "    .dataframe tbody tr th {\n",
       "        vertical-align: top;\n",
       "    }\n",
       "\n",
       "    .dataframe thead th {\n",
       "        text-align: right;\n",
       "    }\n",
       "</style>\n",
       "<table border=\"1\" class=\"dataframe\">\n",
       "  <thead>\n",
       "    <tr style=\"text-align: right;\">\n",
       "      <th></th>\n",
       "      <th>month_id</th>\n",
       "      <th>stock_id</th>\n",
       "      <th>outperform_binary</th>\n",
       "      <th>excess_return</th>\n",
       "    </tr>\n",
       "  </thead>\n",
       "  <tbody>\n",
       "    <tr>\n",
       "      <th>0</th>\n",
       "      <td>2020_01</td>\n",
       "      <td>US001</td>\n",
       "      <td>0</td>\n",
       "      <td>-0.100593</td>\n",
       "    </tr>\n",
       "    <tr>\n",
       "      <th>1</th>\n",
       "      <td>2020_02</td>\n",
       "      <td>US001</td>\n",
       "      <td>0</td>\n",
       "      <td>-0.005920</td>\n",
       "    </tr>\n",
       "    <tr>\n",
       "      <th>2</th>\n",
       "      <td>2020_03</td>\n",
       "      <td>US001</td>\n",
       "      <td>1</td>\n",
       "      <td>0.013384</td>\n",
       "    </tr>\n",
       "  </tbody>\n",
       "</table>\n",
       "</div>"
      ],
      "text/plain": [
       "  month_id stock_id  outperform_binary  excess_return\n",
       "0  2020_01    US001                  0      -0.100593\n",
       "1  2020_02    US001                  0      -0.005920\n",
       "2  2020_03    US001                  1       0.013384"
      ]
     },
     "execution_count": 7,
     "metadata": {},
     "output_type": "execute_result"
    }
   ],
   "source": [
    "train_targets.head(3)"
   ]
  },
  {
   "cell_type": "code",
   "execution_count": 8,
   "metadata": {},
   "outputs": [
    {
     "data": {
      "text/plain": [
       "6"
      ]
     },
     "execution_count": 8,
     "metadata": {},
     "output_type": "execute_result"
    }
   ],
   "source": [
    "len(optional_data_list)"
   ]
  },
  {
   "cell_type": "markdown",
   "metadata": {},
   "source": [
    "## 2. Data Merging\n",
    "\n",
    "Once we have the data loaded, we need to join (merge) them together under one table so that all features including the training labels. "
   ]
  },
  {
   "cell_type": "code",
   "execution_count": 9,
   "metadata": {},
   "outputs": [],
   "source": [
    "def merge_data(stock, company, index, train_targets, optional_data_list=None):\n",
    "    # Add the test data to predict for month_id \"2023_07\"\n",
    "    next_month_df = pd.DataFrame({\"month_id\": [\"2023_07\"]*len(company), \"stock_id\": company[\"stock_id\"].values})\n",
    "    new_stock = pd.concat([stock, next_month_df])\n",
    "    \n",
    "    # Merge/join the primary data\n",
    "    df = pd.merge(new_stock, company, on=[\"stock_id\"], how=\"left\")\n",
    "    df = pd.merge(df, index, on=[\"month_id\"], how=\"left\")\n",
    "    df = pd.merge(df, train_targets, on=[\"month_id\", \"stock_id\"], how=\"left\")\n",
    "\n",
    "    # Optionally merge the optional data\n",
    "    if optional_data_list:\n",
    "        for optional_data in optional_data_list:\n",
    "            df = pd.merge(df, optional_data, on=[\"month_id\"], how=\"left\")\n",
    "    \n",
    "    return df"
   ]
  },
  {
   "cell_type": "markdown",
   "metadata": {},
   "source": [
    "To give more flexibility, the `optional_data_list` parameter under the `merge_data()` function tells it whether to join the optional data or not. Notice that we have six additional columns after joining it with optional data."
   ]
  },
  {
   "cell_type": "code",
   "execution_count": 10,
   "metadata": {},
   "outputs": [
    {
     "data": {
      "text/html": [
       "<div>\n",
       "<style scoped>\n",
       "    .dataframe tbody tr th:only-of-type {\n",
       "        vertical-align: middle;\n",
       "    }\n",
       "\n",
       "    .dataframe tbody tr th {\n",
       "        vertical-align: top;\n",
       "    }\n",
       "\n",
       "    .dataframe thead th {\n",
       "        text-align: right;\n",
       "    }\n",
       "</style>\n",
       "<table border=\"1\" class=\"dataframe\">\n",
       "  <thead>\n",
       "    <tr style=\"text-align: right;\">\n",
       "      <th></th>\n",
       "      <th>stock_id</th>\n",
       "      <th>month_id</th>\n",
       "      <th>month_start_open_usd</th>\n",
       "      <th>month_end_close_usd</th>\n",
       "      <th>month_high_usd</th>\n",
       "      <th>month_low_usd</th>\n",
       "      <th>monthly_volume</th>\n",
       "      <th>intramonth_return</th>\n",
       "      <th>return_1m</th>\n",
       "      <th>return_3m</th>\n",
       "      <th>...</th>\n",
       "      <th>competitive_position</th>\n",
       "      <th>market_cap_category</th>\n",
       "      <th>revenue_tier</th>\n",
       "      <th>profitability_profile</th>\n",
       "      <th>asset_intensity</th>\n",
       "      <th>financial_strength</th>\n",
       "      <th>index_return</th>\n",
       "      <th>index_value</th>\n",
       "      <th>outperform_binary</th>\n",
       "      <th>excess_return</th>\n",
       "    </tr>\n",
       "  </thead>\n",
       "  <tbody>\n",
       "    <tr>\n",
       "      <th>0</th>\n",
       "      <td>US001</td>\n",
       "      <td>2020_01</td>\n",
       "      <td>120.192</td>\n",
       "      <td>107.326</td>\n",
       "      <td>123.486</td>\n",
       "      <td>107.035</td>\n",
       "      <td>84539259.0</td>\n",
       "      <td>-0.107045</td>\n",
       "      <td>-0.100669</td>\n",
       "      <td>-0.030041</td>\n",
       "      <td>...</td>\n",
       "      <td>Market_Leader</td>\n",
       "      <td>Large</td>\n",
       "      <td>Tier_1</td>\n",
       "      <td>Standard</td>\n",
       "      <td>Moderate</td>\n",
       "      <td>Stable</td>\n",
       "      <td>-0.006452</td>\n",
       "      <td>99.354842</td>\n",
       "      <td>0.0</td>\n",
       "      <td>-0.100593</td>\n",
       "    </tr>\n",
       "    <tr>\n",
       "      <th>1</th>\n",
       "      <td>US001</td>\n",
       "      <td>2020_02</td>\n",
       "      <td>108.252</td>\n",
       "      <td>101.868</td>\n",
       "      <td>111.641</td>\n",
       "      <td>99.636</td>\n",
       "      <td>91313882.0</td>\n",
       "      <td>-0.058974</td>\n",
       "      <td>-0.050854</td>\n",
       "      <td>-0.112968</td>\n",
       "      <td>...</td>\n",
       "      <td>Market_Leader</td>\n",
       "      <td>Large</td>\n",
       "      <td>Tier_1</td>\n",
       "      <td>Standard</td>\n",
       "      <td>Moderate</td>\n",
       "      <td>Stable</td>\n",
       "      <td>-0.053054</td>\n",
       "      <td>94.083684</td>\n",
       "      <td>0.0</td>\n",
       "      <td>-0.005920</td>\n",
       "    </tr>\n",
       "    <tr>\n",
       "      <th>2</th>\n",
       "      <td>US001</td>\n",
       "      <td>2020_03</td>\n",
       "      <td>103.301</td>\n",
       "      <td>93.178</td>\n",
       "      <td>105.622</td>\n",
       "      <td>77.841</td>\n",
       "      <td>177930833.0</td>\n",
       "      <td>-0.097995</td>\n",
       "      <td>-0.085299</td>\n",
       "      <td>-0.219214</td>\n",
       "      <td>...</td>\n",
       "      <td>Market_Leader</td>\n",
       "      <td>Large</td>\n",
       "      <td>Tier_1</td>\n",
       "      <td>Standard</td>\n",
       "      <td>Moderate</td>\n",
       "      <td>Stable</td>\n",
       "      <td>-0.111379</td>\n",
       "      <td>83.604709</td>\n",
       "      <td>1.0</td>\n",
       "      <td>0.013384</td>\n",
       "    </tr>\n",
       "  </tbody>\n",
       "</table>\n",
       "<p>3 rows × 32 columns</p>\n",
       "</div>"
      ],
      "text/plain": [
       "  stock_id month_id  month_start_open_usd  month_end_close_usd  \\\n",
       "0    US001  2020_01               120.192              107.326   \n",
       "1    US001  2020_02               108.252              101.868   \n",
       "2    US001  2020_03               103.301               93.178   \n",
       "\n",
       "   month_high_usd  month_low_usd  monthly_volume  intramonth_return  \\\n",
       "0         123.486        107.035      84539259.0          -0.107045   \n",
       "1         111.641         99.636      91313882.0          -0.058974   \n",
       "2         105.622         77.841     177930833.0          -0.097995   \n",
       "\n",
       "   return_1m  return_3m  ...  competitive_position  market_cap_category  \\\n",
       "0  -0.100669  -0.030041  ...         Market_Leader                Large   \n",
       "1  -0.050854  -0.112968  ...         Market_Leader                Large   \n",
       "2  -0.085299  -0.219214  ...         Market_Leader                Large   \n",
       "\n",
       "   revenue_tier  profitability_profile  asset_intensity  financial_strength  \\\n",
       "0        Tier_1               Standard         Moderate              Stable   \n",
       "1        Tier_1               Standard         Moderate              Stable   \n",
       "2        Tier_1               Standard         Moderate              Stable   \n",
       "\n",
       "   index_return  index_value outperform_binary excess_return  \n",
       "0     -0.006452    99.354842               0.0     -0.100593  \n",
       "1     -0.053054    94.083684               0.0     -0.005920  \n",
       "2     -0.111379    83.604709               1.0      0.013384  \n",
       "\n",
       "[3 rows x 32 columns]"
      ]
     },
     "execution_count": 10,
     "metadata": {},
     "output_type": "execute_result"
    }
   ],
   "source": [
    "df_without_optional_features = merge_data(stock, company, index, train_targets)\n",
    "df_without_optional_features.head(3)"
   ]
  },
  {
   "cell_type": "code",
   "execution_count": 11,
   "metadata": {},
   "outputs": [
    {
     "data": {
      "text/html": [
       "<div>\n",
       "<style scoped>\n",
       "    .dataframe tbody tr th:only-of-type {\n",
       "        vertical-align: middle;\n",
       "    }\n",
       "\n",
       "    .dataframe tbody tr th {\n",
       "        vertical-align: top;\n",
       "    }\n",
       "\n",
       "    .dataframe thead th {\n",
       "        text-align: right;\n",
       "    }\n",
       "</style>\n",
       "<table border=\"1\" class=\"dataframe\">\n",
       "  <thead>\n",
       "    <tr style=\"text-align: right;\">\n",
       "      <th></th>\n",
       "      <th>stock_id</th>\n",
       "      <th>month_id</th>\n",
       "      <th>month_start_open_usd</th>\n",
       "      <th>month_end_close_usd</th>\n",
       "      <th>month_high_usd</th>\n",
       "      <th>month_low_usd</th>\n",
       "      <th>monthly_volume</th>\n",
       "      <th>intramonth_return</th>\n",
       "      <th>return_1m</th>\n",
       "      <th>return_3m</th>\n",
       "      <th>...</th>\n",
       "      <th>index_return</th>\n",
       "      <th>index_value</th>\n",
       "      <th>outperform_binary</th>\n",
       "      <th>excess_return</th>\n",
       "      <th>fed_rate</th>\n",
       "      <th>inflation_rate</th>\n",
       "      <th>unemployment_rate</th>\n",
       "      <th>10y_treasury</th>\n",
       "      <th>5y_treasury</th>\n",
       "      <th>vix</th>\n",
       "    </tr>\n",
       "  </thead>\n",
       "  <tbody>\n",
       "    <tr>\n",
       "      <th>0</th>\n",
       "      <td>US001</td>\n",
       "      <td>2020_01</td>\n",
       "      <td>120.192</td>\n",
       "      <td>107.326</td>\n",
       "      <td>123.486</td>\n",
       "      <td>107.035</td>\n",
       "      <td>84539259.0</td>\n",
       "      <td>-0.107045</td>\n",
       "      <td>-0.100669</td>\n",
       "      <td>-0.030041</td>\n",
       "      <td>...</td>\n",
       "      <td>-0.006452</td>\n",
       "      <td>99.354842</td>\n",
       "      <td>0.0</td>\n",
       "      <td>-0.100593</td>\n",
       "      <td>1.55</td>\n",
       "      <td>2.599768</td>\n",
       "      <td>3.6</td>\n",
       "      <td>1.52</td>\n",
       "      <td>1.33</td>\n",
       "      <td>13.94</td>\n",
       "    </tr>\n",
       "    <tr>\n",
       "      <th>1</th>\n",
       "      <td>US001</td>\n",
       "      <td>2020_02</td>\n",
       "      <td>108.252</td>\n",
       "      <td>101.868</td>\n",
       "      <td>111.641</td>\n",
       "      <td>99.636</td>\n",
       "      <td>91313882.0</td>\n",
       "      <td>-0.058974</td>\n",
       "      <td>-0.050854</td>\n",
       "      <td>-0.112968</td>\n",
       "      <td>...</td>\n",
       "      <td>-0.053054</td>\n",
       "      <td>94.083684</td>\n",
       "      <td>0.0</td>\n",
       "      <td>-0.005920</td>\n",
       "      <td>1.58</td>\n",
       "      <td>2.341317</td>\n",
       "      <td>3.5</td>\n",
       "      <td>1.13</td>\n",
       "      <td>0.91</td>\n",
       "      <td>19.63</td>\n",
       "    </tr>\n",
       "    <tr>\n",
       "      <th>2</th>\n",
       "      <td>US001</td>\n",
       "      <td>2020_03</td>\n",
       "      <td>103.301</td>\n",
       "      <td>93.178</td>\n",
       "      <td>105.622</td>\n",
       "      <td>77.841</td>\n",
       "      <td>177930833.0</td>\n",
       "      <td>-0.097995</td>\n",
       "      <td>-0.085299</td>\n",
       "      <td>-0.219214</td>\n",
       "      <td>...</td>\n",
       "      <td>-0.111379</td>\n",
       "      <td>83.604709</td>\n",
       "      <td>1.0</td>\n",
       "      <td>0.013384</td>\n",
       "      <td>0.65</td>\n",
       "      <td>1.494040</td>\n",
       "      <td>4.4</td>\n",
       "      <td>0.70</td>\n",
       "      <td>0.38</td>\n",
       "      <td>57.74</td>\n",
       "    </tr>\n",
       "  </tbody>\n",
       "</table>\n",
       "<p>3 rows × 38 columns</p>\n",
       "</div>"
      ],
      "text/plain": [
       "  stock_id month_id  month_start_open_usd  month_end_close_usd  \\\n",
       "0    US001  2020_01               120.192              107.326   \n",
       "1    US001  2020_02               108.252              101.868   \n",
       "2    US001  2020_03               103.301               93.178   \n",
       "\n",
       "   month_high_usd  month_low_usd  monthly_volume  intramonth_return  \\\n",
       "0         123.486        107.035      84539259.0          -0.107045   \n",
       "1         111.641         99.636      91313882.0          -0.058974   \n",
       "2         105.622         77.841     177930833.0          -0.097995   \n",
       "\n",
       "   return_1m  return_3m  ...  index_return  index_value  outperform_binary  \\\n",
       "0  -0.100669  -0.030041  ...     -0.006452    99.354842                0.0   \n",
       "1  -0.050854  -0.112968  ...     -0.053054    94.083684                0.0   \n",
       "2  -0.085299  -0.219214  ...     -0.111379    83.604709                1.0   \n",
       "\n",
       "   excess_return  fed_rate  inflation_rate  unemployment_rate  10y_treasury  \\\n",
       "0      -0.100593      1.55        2.599768                3.6          1.52   \n",
       "1      -0.005920      1.58        2.341317                3.5          1.13   \n",
       "2       0.013384      0.65        1.494040                4.4          0.70   \n",
       "\n",
       "  5y_treasury    vix  \n",
       "0        1.33  13.94  \n",
       "1        0.91  19.63  \n",
       "2        0.38  57.74  \n",
       "\n",
       "[3 rows x 38 columns]"
      ]
     },
     "execution_count": 11,
     "metadata": {},
     "output_type": "execute_result"
    }
   ],
   "source": [
    "df_with_optional_features = merge_data(stock, company, index, train_targets, optional_data_list)\n",
    "df_with_optional_features.head(3)"
   ]
  },
  {
   "cell_type": "markdown",
   "metadata": {},
   "source": [
    "## 3. Feature Engineering\n",
    "\n",
    "In a time series setting like this, the values in stock_data.csv are only available up to June 2023 (2023_06). To predict labels such as outperform_binary for July 2023 (2023_07), we would need that month’s features (returns, volatility, volumes, fundamentals, etc.).\n",
    "\n",
    "The problem: we won’t actually know those future values yet. If the model had access to them during training, it would be “peeking” into the future — essentially cheating — since it would already know the real price values we are trying to forecast.\n",
    "\n",
    "To solve this, we create proxy features that rely only on information available at or before the prediction month. These are the strategies we adopt:\n",
    "\n",
    "1. **Static company features**\n",
    "\n",
    "- Characteristics that don’t change frequently, or at all (e.g., sector, business model, market cap category, maturity, revenue tier).\n",
    "- Derived from `company_info.csv`.\n",
    "\n",
    "2. **Rolling / lagged historical features**\n",
    "\n",
    "- Instead of using future values directly, we compute aggregates (mean, median, std, sum, etc.) over past time windows (e.g., 3M, 6M, 12M).\n",
    "- Example: when predicting `2023_01`, instead of plugging in that month’s `return_3m` (which we don’t know yet), we calculate rolling averages or medians of past returns up to December 2022.\n",
    "\n",
    "3. **Handling missing values at the start of the series**\n",
    "\n",
    "- At the beginning of the dataset (e.g., January 2020), rolling or lagged values aren’t available because there’s no prior data.\n",
    "- These early months produce some NaN values. Since they represent only a small portion of the data, we can handle them with simple forward-fill or backward-fill strategies."
   ]
  },
  {
   "cell_type": "code",
   "execution_count": 12,
   "metadata": {},
   "outputs": [],
   "source": [
    "def impute_missing_columns(df, imputation_method):    \n",
    "    for column in df.columns:\n",
    "        if column in [\"month_id\", \"stock_id\"]:  # never impute ID columns\n",
    "            continue\n",
    "        \n",
    "        if imputation_method == \"ffill\":\n",
    "            df[column] = df[column].fillna(method=\"ffill\")\n",
    "        elif imputation_method == \"median\":\n",
    "            df[column] = df[column].fillna(df[column].median())\n",
    "    \n",
    "    return df\n",
    "\n",
    "def compute_rolling_statistic_features(df, macro_cols):\n",
    "    grouped = df.groupby('stock_id')\n",
    "\n",
    "    # Price-based returns \n",
    "    for window in [3, 6, 12]:\n",
    "        df[f'intramonth_return_rolling_mean_{window}m']   = grouped['intramonth_return'].transform(lambda x: x.rolling(window, min_periods=1).mean())\n",
    "        df[f'intramonth_return_rolling_std_{window}m']    = grouped['intramonth_return'].transform(lambda x: x.rolling(window, min_periods=1).std())\n",
    "        df[f'intramonth_return_rolling_median_{window}m'] = grouped['intramonth_return'].transform(lambda x: x.rolling(window, min_periods=1).median())\n",
    "\n",
    "    # Lagged returns \n",
    "    for col in ['return_1m', 'return_3m', 'return_6m']:\n",
    "        for lag in [1, 2]:\n",
    "            df[f'{col}_lagged_{lag}'] = grouped[col].shift(lag)\n",
    "\n",
    "    # Volatility features\n",
    "    for col, windows in [\n",
    "        ('intramonth_volatility', [3, 6, 12]),\n",
    "        ('volatility_3m', [3, 6]),\n",
    "        ('volatility_6m', [3, 6])\n",
    "    ]:\n",
    "        for window in windows:\n",
    "            df[f'{col}_rolling_mean_{window}m'] = grouped[col].transform(lambda x: x.rolling(window, min_periods=1).mean())\n",
    "            df[f'{col}_rolling_std_{window}m']  = grouped[col].transform(lambda x: x.rolling(window, min_periods=1).std())\n",
    "\n",
    "    # Volume features\n",
    "    for col, windows in [\n",
    "        ('monthly_volume', [3, 6]),\n",
    "        ('avg_volume_3m', [3, 6]),\n",
    "        ('volume_ratio', [3, 6])\n",
    "    ]:\n",
    "        for window in windows:\n",
    "            df[f'{col}_rolling_mean_{window}m'] = grouped[col].transform(lambda x: x.rolling(window, min_periods=1).mean())\n",
    "            df[f'{col}_rolling_sum_{window}m']  = grouped[col].transform(lambda x: x.rolling(window, min_periods=1).sum())\n",
    "\n",
    "    # Price range\n",
    "    df['price_range'] = df['month_high_usd'] - df['month_low_usd']\n",
    "    for window in [3, 6, 12]:\n",
    "        df[f'price_range_rolling_mean_{window}m']       = grouped['price_range'].transform(lambda x: x.rolling(window, min_periods=1).mean())\n",
    "        df[f'price_range_ratio_rolling_mean_{window}m'] = grouped['price_range_ratio'].transform(lambda x: x.rolling(window, min_periods=1).mean())\n",
    "\n",
    "    # Index rolling features\n",
    "    for window in [3, 6]:\n",
    "        df[f'index_return_rolling_mean_{window}m'] = grouped['index_return'].transform(lambda x: x.rolling(window, min_periods=1).mean())\n",
    "        df[f'index_return_rolling_std_{window}m']  = grouped['index_return'].transform(lambda x: x.rolling(window, min_periods=1).std())\n",
    "\n",
    "    # Additional features\n",
    "    if macro_cols:\n",
    "        for col in macro_cols:\n",
    "            for window in [3, 6, 12]:\n",
    "                df[f'{col}_rolling_mean_{window}m'] = df.groupby('month_id')[col].transform(lambda x: x.rolling(window, min_periods=1).mean())\n",
    "                df[f'{col}_rolling_std_{window}m']  = df.groupby('month_id')[col].transform(lambda x: x.rolling(window, min_periods=1).std())\n",
    "\n",
    "    return df\n",
    "    \n",
    "def handle_missing_rolling_features(df, strategy=\"drop\", fill_value=0):\n",
    "    rolling_cols = [c for c in df.columns if \"lag\" in c or \"rolling\" in c]\n",
    "    if strategy == \"drop\":\n",
    "        df = df.dropna(subset=rolling_cols)\n",
    "    elif strategy == \"fill\":\n",
    "        df[rolling_cols] = df[rolling_cols].fillna(fill_value)\n",
    "    elif strategy == \"ffill\":\n",
    "        df[rolling_cols] = df[rolling_cols].fillna(method=\"ffill\")\n",
    "    elif strategy == \"bfill\":\n",
    "        df[rolling_cols] = df[rolling_cols].fillna(method=\"bfill\")\n",
    "\n",
    "    return df\n",
    "\n",
    "def build_training_data(df, imputation_method, macro_cols=None,\n",
    "                        build_additional_features=False, handle_missing_rolling_features_strategy=\"bfill\"):\n",
    "    train_df = df.copy()\n",
    "    train_df = impute_missing_columns(train_df, imputation_method=imputation_method)\n",
    "    train_df = train_df.sort_values(by=[\"stock_id\", \"month_id\"])\n",
    "    \n",
    "    if build_additional_features:\n",
    "        train_df = compute_rolling_statistic_features(train_df, macro_cols)\n",
    "        train_df = handle_missing_rolling_features(train_df, strategy=handle_missing_rolling_features_strategy)\n",
    "    \n",
    "    train_df[\"outperform_binary\"] = df[\"outperform_binary\"]\n",
    "    train_df[\"excess_return\"] = df[\"excess_return\"]\n",
    "    \n",
    "    return train_df"
   ]
  },
  {
   "cell_type": "code",
   "execution_count": 13,
   "metadata": {},
   "outputs": [
    {
     "name": "stderr",
     "output_type": "stream",
     "text": [
      "C:\\Users\\Archel\\AppData\\Local\\Temp\\ipykernel_4584\\3088241577.py:7: FutureWarning: Series.fillna with 'method' is deprecated and will raise in a future version. Use obj.ffill() or obj.bfill() instead.\n",
      "  df[column] = df[column].fillna(method=\"ffill\")\n"
     ]
    }
   ],
   "source": [
    "train_df = build_training_data(df_without_optional_features, imputation_method=\"ffill\",\n",
    "                               macro_cols=None, \n",
    "                               build_additional_features=False,\n",
    "                               handle_missing_rolling_features_strategy=\"bfill\")"
   ]
  },
  {
   "cell_type": "markdown",
   "metadata": {},
   "source": [
    "Make sure that the only missing columns are the labels `outperform_binary` and `excess_return` for the test data."
   ]
  },
  {
   "cell_type": "code",
   "execution_count": 14,
   "metadata": {},
   "outputs": [
    {
     "data": {
      "text/html": [
       "<div>\n",
       "<style scoped>\n",
       "    .dataframe tbody tr th:only-of-type {\n",
       "        vertical-align: middle;\n",
       "    }\n",
       "\n",
       "    .dataframe tbody tr th {\n",
       "        vertical-align: top;\n",
       "    }\n",
       "\n",
       "    .dataframe thead th {\n",
       "        text-align: right;\n",
       "    }\n",
       "</style>\n",
       "<table border=\"1\" class=\"dataframe\">\n",
       "  <thead>\n",
       "    <tr style=\"text-align: right;\">\n",
       "      <th></th>\n",
       "      <th>index</th>\n",
       "      <th>count</th>\n",
       "    </tr>\n",
       "  </thead>\n",
       "  <tbody>\n",
       "    <tr>\n",
       "      <th>30</th>\n",
       "      <td>outperform_binary</td>\n",
       "      <td>616</td>\n",
       "    </tr>\n",
       "    <tr>\n",
       "      <th>31</th>\n",
       "      <td>excess_return</td>\n",
       "      <td>616</td>\n",
       "    </tr>\n",
       "  </tbody>\n",
       "</table>\n",
       "</div>"
      ],
      "text/plain": [
       "                index  count\n",
       "30  outperform_binary    616\n",
       "31      excess_return    616"
      ]
     },
     "execution_count": 14,
     "metadata": {},
     "output_type": "execute_result"
    }
   ],
   "source": [
    "has_null_df = train_df.isnull().sum().to_frame(name=\"count\").reset_index()\n",
    "has_null_df.query(\"count > 0\")"
   ]
  },
  {
   "cell_type": "markdown",
   "metadata": {},
   "source": [
    "## 4. Data Split & Cross Validation Setting\n",
    "\n",
    "We split the dataset into training and test based on time:\n",
    "\n",
    "- All data prior to `2023_07` -> training set\n",
    "- Data for `2023_07` -> test set (held-out for final evaluation)\n",
    "\n",
    "Unlike standard ML problems, splitting time series data requires special care:\n",
    "\n",
    "- A random split would leak future information into the training set.\n",
    "- We also cannot freely mix data across different companies, since each stock has its own dynamics. Mixing timelines would confuse the model and break the temporal ordering of events.\n",
    "\n",
    "To respect the temporal structure, we use time-series cross-validation (CV):\n",
    "\n",
    "1. Group and sort the data by `stock_id` and `month_id`.\n",
    "\n",
    "2. Rolling/expanding split by `month_id`:\n",
    "\n",
    "- Start with a warm-up training window (e.g., 12 months from `2021_01` to `2021_12`). Warm-up window ensures that we have enough history for rolling/lagged features. If we decide the validation month too early, those values will be `NaN` (empty). It also promotes training stability and provides more variability in 1 year.\n",
    "\n",
    "- Use the next month (`2022_01`) as validation.\n",
    "\n",
    "3. Iterate forward in time: each fold expands (or slides) the training window and shifts the validation month forward.\n",
    "\n",
    "4. Stop when the validation reaches the last available month (`2023_06`).\n",
    "\n",
    "This approach mimics the real-world forecasting process: at any point, the model can only learn from the past and must predict the immediate future."
   ]
  },
  {
   "cell_type": "code",
   "execution_count": 15,
   "metadata": {},
   "outputs": [],
   "source": [
    "def split_data(df, task):\n",
    "    train_df = df[df['month_id'] <= \"2023_06\"]\n",
    "    test_df = df[df['month_id'] == \"2023_07\"]\n",
    "\n",
    "    X_train = train_df.drop(columns=[\"outperform_binary\", \"excess_return\"], axis=1)\n",
    "    X_test = test_df.drop(columns=[\"outperform_binary\", \"excess_return\"], axis=1)\n",
    "    if task == \"classification\":\n",
    "        y_train = train_df['outperform_binary'].astype(int)\n",
    "    elif task == \"regression\":\n",
    "        y_train = train_df['excess_return'].astype(float)\n",
    "\n",
    "    return X_train, y_train, X_test\n",
    "\n",
    "def time_series_cv_splits(df, warmup=12, n_splits=5, window_type=\"expanding\"):\n",
    "    months = sorted(df[\"month_id\"].unique())\n",
    "    total_months = len(months)\n",
    "\n",
    "    for i in range(warmup, min(total_months, warmup + n_splits)):\n",
    "        if window_type == \"expanding\":\n",
    "            train_months = months[:i]     \n",
    "        elif window_type == \"sliding\":\n",
    "            start_idx = max(0, i - warmup)\n",
    "            train_months = months[start_idx:i] \n",
    "\n",
    "        val_month = months[i]        \n",
    "        train_idx = df[df[\"month_id\"].isin(train_months)].index\n",
    "        val_idx   = df[df[\"month_id\"] == val_month].index\n",
    "\n",
    "        yield train_idx, val_idx"
   ]
  },
  {
   "cell_type": "code",
   "execution_count": 16,
   "metadata": {},
   "outputs": [],
   "source": [
    "X_train_clf, y_train_clf, X_test_clf = split_data(train_df, task=\"classification\")"
   ]
  },
  {
   "cell_type": "markdown",
   "metadata": {},
   "source": [
    "To provide more flexibility, the cross validation split can be done in two ways:\n",
    "\n",
    "1. Expanding window: Training set keeps expanding, validation is always the next month (or next k months).\n",
    "\n",
    "2. Sliding window: Training window has fixed length (e.g., 12 months). Slide the window forward by 1 month each fold: train on `[t..t+11]`, validate on month `t+12`."
   ]
  },
  {
   "cell_type": "code",
   "execution_count": 17,
   "metadata": {},
   "outputs": [
    {
     "name": "stdout",
     "output_type": "stream",
     "text": [
      "Fold 1: Train months=['2020_01' '2020_12'], Val month=2021_01\n",
      "Fold 2: Train months=['2020_01' '2021_01'], Val month=2021_02\n",
      "Fold 3: Train months=['2020_01' '2021_02'], Val month=2021_03\n",
      "Fold 4: Train months=['2020_01' '2021_03'], Val month=2021_04\n",
      "Fold 5: Train months=['2020_01' '2021_04'], Val month=2021_05\n"
     ]
    }
   ],
   "source": [
    "for fold, (train_idx, val_idx) in enumerate(time_series_cv_splits(train_df, window_type=\"expanding\")):\n",
    "    print(f\"Fold {fold+1}: Train months={train_df.loc[train_idx,'month_id'].unique()[[0,-1]]}, \"\n",
    "          f\"Val month={train_df.loc[val_idx,'month_id'].unique()[0]}\")"
   ]
  },
  {
   "cell_type": "code",
   "execution_count": 18,
   "metadata": {},
   "outputs": [
    {
     "name": "stdout",
     "output_type": "stream",
     "text": [
      "Fold 1: Train months=['2020_01' '2020_12'], Val month=2021_01\n",
      "Fold 2: Train months=['2020_02' '2021_01'], Val month=2021_02\n",
      "Fold 3: Train months=['2020_03' '2021_02'], Val month=2021_03\n",
      "Fold 4: Train months=['2020_04' '2021_03'], Val month=2021_04\n",
      "Fold 5: Train months=['2020_05' '2021_04'], Val month=2021_05\n"
     ]
    }
   ],
   "source": [
    "for fold, (train_idx, val_idx) in enumerate(time_series_cv_splits(train_df, window_type=\"sliding\")):\n",
    "    print(f\"Fold {fold+1}: Train months={train_df.loc[train_idx,'month_id'].unique()[[0,-1]]}, \"\n",
    "          f\"Val month={train_df.loc[val_idx,'month_id'].unique()[0]}\")"
   ]
  },
  {
   "cell_type": "markdown",
   "metadata": {},
   "source": [
    "## 5. Modelling\n",
    "\n",
    "### 5.1. Baseline (Dummy Model)\n",
    "\n",
    "Before training more complex models, we establish a baseline using a simple DummyClassifier from scikit-learn. This classifier can generate predictions using different strategies:\n",
    "\n",
    "- Most frequent (majority vote): Always predicts the majority class.\n",
    "- Stratified random: Predicts according to the observed class distribution.\n",
    "- Uniform random: Predicts labels completely at random with equal probability.\n",
    "\n",
    "Since our exploratory data analysis (EDA) showed that the target variable outperform_binary is fairly balanced between 0 and 1, we use the uniform random strategy. This gives us a baseline model that predicts labels at random with a 50/50 chance.\n",
    "\n",
    "This baseline performance acts as a lower bound — any meaningful model should outperform it."
   ]
  },
  {
   "cell_type": "code",
   "execution_count": 19,
   "metadata": {},
   "outputs": [],
   "source": [
    "def create_dummy_pipeline(X_train, task):\n",
    "    dummy_pipeline = Pipeline(steps=[\n",
    "        (\"model\", DummyClassifier(strategy=\"uniform\", random_state=42)) \n",
    "    ])\n",
    "\n",
    "    return dummy_pipeline\n",
    "\n",
    "def train_single_pipeline(model_pipeline, X, y, df, cv_splits=30, task=\"classification\",\n",
    "                          window_type=\"expanding\", warmup=12):  \n",
    "\n",
    "    oof_preds = np.zeros(len(X))\n",
    "    metric_scores = []\n",
    "\n",
    "    for fold, (train_idx, val_idx) in enumerate(time_series_cv_splits(df, \n",
    "                                                                      warmup=warmup,\n",
    "                                                                      n_splits=cv_splits,\n",
    "                                                                      window_type=window_type)):\n",
    "        X_train_cv, X_val_cv = X.iloc[train_idx], X.iloc[val_idx]\n",
    "        y_train_cv, y_val_cv = y.iloc[train_idx], y.iloc[val_idx]\n",
    "\n",
    "        # Fit model\n",
    "        model_pipeline.fit(X_train_cv, y_train_cv)\n",
    "\n",
    "        # Predictions\n",
    "        if task == \"classification\":\n",
    "            val_preds = model_pipeline.predict(X_val_cv)\n",
    "            metric = f1_score(y_val_cv, val_preds)\n",
    "        elif task == \"regression\":\n",
    "            val_preds = model_pipeline.predict(X_val_cv)\n",
    "            metric = np.sqrt(mean_squared_error(y_val_cv, val_preds))\n",
    "\n",
    "        oof_preds[val_idx] = val_preds\n",
    "        metric_scores.append(metric)\n",
    "\n",
    "    if task == \"classification\":\n",
    "        print(f\"Mean F1 Score across folds: {np.mean(metric_scores):.4f}\")\n",
    "    elif task == \"regression\":\n",
    "        print(f\"Mean RMSE across folds: {np.mean(metric_scores):.4f}\")\n",
    "\n",
    "    return metric_scores"
   ]
  },
  {
   "cell_type": "code",
   "execution_count": 20,
   "metadata": {},
   "outputs": [
    {
     "name": "stdout",
     "output_type": "stream",
     "text": [
      "Mean F1 Score across folds: 0.5031\n"
     ]
    }
   ],
   "source": [
    "dummy_pipeline_clf = create_dummy_pipeline(X_train_clf, task=\"classification\")\n",
    "_ = train_single_pipeline(dummy_pipeline_clf, X_train_clf, y_train_clf, train_df, cv_splits=30, task=\"classification\")"
   ]
  },
  {
   "cell_type": "markdown",
   "metadata": {},
   "source": [
    "As expected, the dummy classifier has a mean F1-score of 0.50 across all folds. This means that we have to train models that are better than just guessing 50/50."
   ]
  },
  {
   "cell_type": "markdown",
   "metadata": {},
   "source": [
    "### 5.2. Initial Model Training\n",
    "\n",
    "Our dataset contains both numerical and categorical features. Since many machine learning algorithms require categorical variables to be encoded as numeric, we apply preprocessing where necessary. However, some models such as Random Forest can handle categorical features directly without explicit encoding.\n",
    "\n",
    "We further distinguish categorical features into two groups:\n",
    "\n",
    "- Ordinal features: categories with a natural order (e.g., sector, business_model).\n",
    "- Nominal features: categories without inherent ordering (treated as standard categorical variables).\n",
    "\n",
    "In this notebook, we evaluate five baseline models: Logistic Regression, Random Forest, Support Vector Machine (SVM), XGBoost, and CatBoost. Each model is first trained using its default hyperparameters (as provided by `scikit-learn` or the respective library) to enable a fair initial comparison."
   ]
  },
  {
   "cell_type": "code",
   "execution_count": 21,
   "metadata": {},
   "outputs": [],
   "source": [
    "def get_features(X_train):\n",
    "    features_to_exclude = ['month_id', 'stock_id', 'outperform_binary', 'excess_return']\n",
    "    categorical_features = [\"sector\", \"business_model\"]\n",
    "    ordinal_features = [column for column in X_train.columns if X_train[column].dtype == \"object\" and column not in categorical_features + features_to_exclude]\n",
    "    numerical_features = [column for column in X_train.columns if \"lag\" in column or \"rolling\" in column]\n",
    "\n",
    "    return categorical_features, ordinal_features, numerical_features\n",
    "\n",
    "def create_feature_preprocessor(categorical_features, ordinal_features, numerical_features):\n",
    "    preprocessor = ColumnTransformer(\n",
    "        transformers=[\n",
    "            (\"categorical\", OneHotEncoder(handle_unknown=\"ignore\"), categorical_features),\n",
    "            (\"ordinal\", OrdinalEncoder(handle_unknown='use_encoded_value', unknown_value=-1), ordinal_features),\n",
    "            (\"num\", StandardScaler(), numerical_features)\n",
    "        ],\n",
    "        remainder=\"drop\"\n",
    "    )\n",
    "\n",
    "    return preprocessor"
   ]
  },
  {
   "cell_type": "markdown",
   "metadata": {},
   "source": [
    "Utilising the `Pipeline` class from `scikit-learn` makes model building and experimenting much easier. Since we are using the same column transformer and steps, we just need to replace the training part with the respective models."
   ]
  },
  {
   "cell_type": "code",
   "execution_count": 22,
   "metadata": {},
   "outputs": [],
   "source": [
    "def create_linear_regression_pipeline(X_train, task):\n",
    "    categorical_features, ordinal_features, numerical_features = get_features(X_train)\n",
    "    preprocessor = create_feature_preprocessor(categorical_features, ordinal_features, numerical_features)\n",
    "    if task == \"classification\":\n",
    "        lr_pipeline = Pipeline(steps=[\n",
    "            (\"preprocessor\", preprocessor),\n",
    "            (\"model\", LogisticRegression(max_iter=1000, random_state=42))\n",
    "        ])\n",
    "    elif task == \"regression\":\n",
    "        lr_pipeline = Pipeline(steps=[\n",
    "            (\"preprocessor\", preprocessor),\n",
    "            (\"model\", LinearRegression()) \n",
    "        ])\n",
    "\n",
    "    return lr_pipeline\n",
    "\n",
    "def create_random_forest_pipeline(X_train, task):\n",
    "    categorical_features, ordinal_features, numerical_features = get_features(X_train)\n",
    "    preprocessor = create_feature_preprocessor(categorical_features, ordinal_features, numerical_features)\n",
    "    if task == \"classification\":\n",
    "        rf_pipeline = Pipeline(steps=[\n",
    "            (\"preprocessor\", preprocessor),\n",
    "            (\"model\", RandomForestClassifier(n_jobs=-1, random_state=42)) \n",
    "        ])\n",
    "    elif task == \"regression\":\n",
    "        rf_pipeline = Pipeline(steps=[\n",
    "            (\"preprocessor\", preprocessor),\n",
    "            (\"model\", RandomForestRegressor(n_jobs=-1, random_state=42)) \n",
    "        ])\n",
    "\n",
    "    return rf_pipeline\n",
    "\n",
    "def create_svm_pipeline(X_train, task):\n",
    "    categorical_features, ordinal_features, numerical_features = get_features(X_train)\n",
    "    preprocessor = create_feature_preprocessor(categorical_features, ordinal_features, numerical_features)\n",
    "    if task == \"classification\":\n",
    "        svm_pipeline = Pipeline(steps=[\n",
    "            (\"preprocessor\", preprocessor),\n",
    "            (\"model\", SVC(probability=False, random_state=42)) \n",
    "        ])\n",
    "    elif task == \"regression\":\n",
    "        svm_pipeline = Pipeline(steps=[\n",
    "            (\"preprocessor\", preprocessor),\n",
    "            (\"model\", SVR(probability=False, random_state=42)) \n",
    "        ])\n",
    "\n",
    "    return svm_pipeline\n",
    "\n",
    "def create_xgb_pipeline(X_train, task):\n",
    "    categorical_features, ordinal_features, numerical_features = get_features(X_train)\n",
    "    preprocessor = create_feature_preprocessor(categorical_features, ordinal_features, numerical_features)\n",
    "    if task == \"classification\":\n",
    "        xgb_pipeline = Pipeline(steps=[\n",
    "            (\"preprocessor\", preprocessor),\n",
    "            (\"model\", xgb.XGBClassifier(random_state=42)) \n",
    "        ])\n",
    "    elif task == \"regression\":\n",
    "        xgb_pipeline = Pipeline(steps=[\n",
    "            (\"preprocessor\", preprocessor),\n",
    "            (\"model\", xgb.XGBRegressor(random_state=42)) \n",
    "        ])\n",
    "\n",
    "    return xgb_pipeline\n",
    "\n",
    "def create_catboost_pipeline(X_train, task):\n",
    "    categorical_features, ordinal_features, numerical_features = get_features(X_train)\n",
    "    preprocessor = create_feature_preprocessor(categorical_features, ordinal_features, numerical_features)\n",
    "    if task == \"classification\":\n",
    "        catboost_pipeline = Pipeline(steps=[\n",
    "            (\"preprocessor\", preprocessor),\n",
    "            (\"model\", CatBoostClassifier(random_state=42, verbose=0)) \n",
    "        ])\n",
    "    elif task == \"regression\":\n",
    "        catboost_pipeline = Pipeline(steps=[\n",
    "            (\"preprocessor\", preprocessor),\n",
    "            (\"model\", CatBoostRegressor(random_state=42, verbose=0)) \n",
    "        ])\n",
    "\n",
    "    return catboost_pipeline\n",
    "\n",
    "def compare_classification_models(model_pipelines, X_train, y_train, train_df, task, cv_splits):\n",
    "    evaluation_dict = {\"algorithm\": [], \"f1_scores\": [], \"mean_f1_score\": []}\n",
    "    for model_pipeline in model_pipelines:\n",
    "        f1_scores = train_single_pipeline(model_pipeline[1], X_train, y_train, train_df, cv_splits, task)\n",
    "        mean_f1_score = np.mean(f1_scores)\n",
    "        evaluation_dict[\"algorithm\"].append(model_pipeline[0])\n",
    "        evaluation_dict[\"f1_scores\"].append(f1_scores)\n",
    "        evaluation_dict[\"mean_f1_score\"].append(mean_f1_score)\n",
    "\n",
    "    return pd.DataFrame(evaluation_dict)"
   ]
  },
  {
   "cell_type": "markdown",
   "metadata": {},
   "source": [
    "Since our dataset is available in two versions with optional features and without optional features, we begin by fitting all five baseline models on both variants. This allows us to evaluate whether the optional features contribute meaningful predictive power and lead to improvements in model performance."
   ]
  },
  {
   "cell_type": "code",
   "execution_count": 23,
   "metadata": {},
   "outputs": [
    {
     "name": "stderr",
     "output_type": "stream",
     "text": [
      "C:\\Users\\Archel\\AppData\\Local\\Temp\\ipykernel_4584\\3088241577.py:7: FutureWarning: Series.fillna with 'method' is deprecated and will raise in a future version. Use obj.ffill() or obj.bfill() instead.\n",
      "  df[column] = df[column].fillna(method=\"ffill\")\n",
      "C:\\Users\\Archel\\AppData\\Local\\Temp\\ipykernel_4584\\3088241577.py:76: FutureWarning: DataFrame.fillna with 'method' is deprecated and will raise in a future version. Use obj.ffill() or obj.bfill() instead.\n",
      "  df[rolling_cols] = df[rolling_cols].fillna(method=\"bfill\")\n",
      "C:\\Users\\Archel\\AppData\\Local\\Temp\\ipykernel_4584\\3088241577.py:7: FutureWarning: Series.fillna with 'method' is deprecated and will raise in a future version. Use obj.ffill() or obj.bfill() instead.\n",
      "  df[column] = df[column].fillna(method=\"ffill\")\n",
      "C:\\Users\\Archel\\AppData\\Local\\Temp\\ipykernel_4584\\3088241577.py:63: PerformanceWarning: DataFrame is highly fragmented.  This is usually the result of calling `frame.insert` many times, which has poor performance.  Consider joining all columns at once using pd.concat(axis=1) instead. To get a de-fragmented frame, use `newframe = frame.copy()`\n",
      "  df[f'{col}_rolling_std_{window}m']  = df.groupby('month_id')[col].transform(lambda x: x.rolling(window, min_periods=1).std())\n",
      "C:\\Users\\Archel\\AppData\\Local\\Temp\\ipykernel_4584\\3088241577.py:62: PerformanceWarning: DataFrame is highly fragmented.  This is usually the result of calling `frame.insert` many times, which has poor performance.  Consider joining all columns at once using pd.concat(axis=1) instead. To get a de-fragmented frame, use `newframe = frame.copy()`\n",
      "  df[f'{col}_rolling_mean_{window}m'] = df.groupby('month_id')[col].transform(lambda x: x.rolling(window, min_periods=1).mean())\n",
      "C:\\Users\\Archel\\AppData\\Local\\Temp\\ipykernel_4584\\3088241577.py:63: PerformanceWarning: DataFrame is highly fragmented.  This is usually the result of calling `frame.insert` many times, which has poor performance.  Consider joining all columns at once using pd.concat(axis=1) instead. To get a de-fragmented frame, use `newframe = frame.copy()`\n",
      "  df[f'{col}_rolling_std_{window}m']  = df.groupby('month_id')[col].transform(lambda x: x.rolling(window, min_periods=1).std())\n",
      "C:\\Users\\Archel\\AppData\\Local\\Temp\\ipykernel_4584\\3088241577.py:62: PerformanceWarning: DataFrame is highly fragmented.  This is usually the result of calling `frame.insert` many times, which has poor performance.  Consider joining all columns at once using pd.concat(axis=1) instead. To get a de-fragmented frame, use `newframe = frame.copy()`\n",
      "  df[f'{col}_rolling_mean_{window}m'] = df.groupby('month_id')[col].transform(lambda x: x.rolling(window, min_periods=1).mean())\n",
      "C:\\Users\\Archel\\AppData\\Local\\Temp\\ipykernel_4584\\3088241577.py:63: PerformanceWarning: DataFrame is highly fragmented.  This is usually the result of calling `frame.insert` many times, which has poor performance.  Consider joining all columns at once using pd.concat(axis=1) instead. To get a de-fragmented frame, use `newframe = frame.copy()`\n",
      "  df[f'{col}_rolling_std_{window}m']  = df.groupby('month_id')[col].transform(lambda x: x.rolling(window, min_periods=1).std())\n",
      "C:\\Users\\Archel\\AppData\\Local\\Temp\\ipykernel_4584\\3088241577.py:62: PerformanceWarning: DataFrame is highly fragmented.  This is usually the result of calling `frame.insert` many times, which has poor performance.  Consider joining all columns at once using pd.concat(axis=1) instead. To get a de-fragmented frame, use `newframe = frame.copy()`\n",
      "  df[f'{col}_rolling_mean_{window}m'] = df.groupby('month_id')[col].transform(lambda x: x.rolling(window, min_periods=1).mean())\n",
      "C:\\Users\\Archel\\AppData\\Local\\Temp\\ipykernel_4584\\3088241577.py:63: PerformanceWarning: DataFrame is highly fragmented.  This is usually the result of calling `frame.insert` many times, which has poor performance.  Consider joining all columns at once using pd.concat(axis=1) instead. To get a de-fragmented frame, use `newframe = frame.copy()`\n",
      "  df[f'{col}_rolling_std_{window}m']  = df.groupby('month_id')[col].transform(lambda x: x.rolling(window, min_periods=1).std())\n",
      "C:\\Users\\Archel\\AppData\\Local\\Temp\\ipykernel_4584\\3088241577.py:62: PerformanceWarning: DataFrame is highly fragmented.  This is usually the result of calling `frame.insert` many times, which has poor performance.  Consider joining all columns at once using pd.concat(axis=1) instead. To get a de-fragmented frame, use `newframe = frame.copy()`\n",
      "  df[f'{col}_rolling_mean_{window}m'] = df.groupby('month_id')[col].transform(lambda x: x.rolling(window, min_periods=1).mean())\n",
      "C:\\Users\\Archel\\AppData\\Local\\Temp\\ipykernel_4584\\3088241577.py:63: PerformanceWarning: DataFrame is highly fragmented.  This is usually the result of calling `frame.insert` many times, which has poor performance.  Consider joining all columns at once using pd.concat(axis=1) instead. To get a de-fragmented frame, use `newframe = frame.copy()`\n",
      "  df[f'{col}_rolling_std_{window}m']  = df.groupby('month_id')[col].transform(lambda x: x.rolling(window, min_periods=1).std())\n",
      "C:\\Users\\Archel\\AppData\\Local\\Temp\\ipykernel_4584\\3088241577.py:62: PerformanceWarning: DataFrame is highly fragmented.  This is usually the result of calling `frame.insert` many times, which has poor performance.  Consider joining all columns at once using pd.concat(axis=1) instead. To get a de-fragmented frame, use `newframe = frame.copy()`\n",
      "  df[f'{col}_rolling_mean_{window}m'] = df.groupby('month_id')[col].transform(lambda x: x.rolling(window, min_periods=1).mean())\n",
      "C:\\Users\\Archel\\AppData\\Local\\Temp\\ipykernel_4584\\3088241577.py:63: PerformanceWarning: DataFrame is highly fragmented.  This is usually the result of calling `frame.insert` many times, which has poor performance.  Consider joining all columns at once using pd.concat(axis=1) instead. To get a de-fragmented frame, use `newframe = frame.copy()`\n",
      "  df[f'{col}_rolling_std_{window}m']  = df.groupby('month_id')[col].transform(lambda x: x.rolling(window, min_periods=1).std())\n",
      "C:\\Users\\Archel\\AppData\\Local\\Temp\\ipykernel_4584\\3088241577.py:62: PerformanceWarning: DataFrame is highly fragmented.  This is usually the result of calling `frame.insert` many times, which has poor performance.  Consider joining all columns at once using pd.concat(axis=1) instead. To get a de-fragmented frame, use `newframe = frame.copy()`\n",
      "  df[f'{col}_rolling_mean_{window}m'] = df.groupby('month_id')[col].transform(lambda x: x.rolling(window, min_periods=1).mean())\n",
      "C:\\Users\\Archel\\AppData\\Local\\Temp\\ipykernel_4584\\3088241577.py:63: PerformanceWarning: DataFrame is highly fragmented.  This is usually the result of calling `frame.insert` many times, which has poor performance.  Consider joining all columns at once using pd.concat(axis=1) instead. To get a de-fragmented frame, use `newframe = frame.copy()`\n",
      "  df[f'{col}_rolling_std_{window}m']  = df.groupby('month_id')[col].transform(lambda x: x.rolling(window, min_periods=1).std())\n",
      "C:\\Users\\Archel\\AppData\\Local\\Temp\\ipykernel_4584\\3088241577.py:62: PerformanceWarning: DataFrame is highly fragmented.  This is usually the result of calling `frame.insert` many times, which has poor performance.  Consider joining all columns at once using pd.concat(axis=1) instead. To get a de-fragmented frame, use `newframe = frame.copy()`\n",
      "  df[f'{col}_rolling_mean_{window}m'] = df.groupby('month_id')[col].transform(lambda x: x.rolling(window, min_periods=1).mean())\n",
      "C:\\Users\\Archel\\AppData\\Local\\Temp\\ipykernel_4584\\3088241577.py:63: PerformanceWarning: DataFrame is highly fragmented.  This is usually the result of calling `frame.insert` many times, which has poor performance.  Consider joining all columns at once using pd.concat(axis=1) instead. To get a de-fragmented frame, use `newframe = frame.copy()`\n",
      "  df[f'{col}_rolling_std_{window}m']  = df.groupby('month_id')[col].transform(lambda x: x.rolling(window, min_periods=1).std())\n",
      "C:\\Users\\Archel\\AppData\\Local\\Temp\\ipykernel_4584\\3088241577.py:62: PerformanceWarning: DataFrame is highly fragmented.  This is usually the result of calling `frame.insert` many times, which has poor performance.  Consider joining all columns at once using pd.concat(axis=1) instead. To get a de-fragmented frame, use `newframe = frame.copy()`\n",
      "  df[f'{col}_rolling_mean_{window}m'] = df.groupby('month_id')[col].transform(lambda x: x.rolling(window, min_periods=1).mean())\n",
      "C:\\Users\\Archel\\AppData\\Local\\Temp\\ipykernel_4584\\3088241577.py:63: PerformanceWarning: DataFrame is highly fragmented.  This is usually the result of calling `frame.insert` many times, which has poor performance.  Consider joining all columns at once using pd.concat(axis=1) instead. To get a de-fragmented frame, use `newframe = frame.copy()`\n",
      "  df[f'{col}_rolling_std_{window}m']  = df.groupby('month_id')[col].transform(lambda x: x.rolling(window, min_periods=1).std())\n",
      "C:\\Users\\Archel\\AppData\\Local\\Temp\\ipykernel_4584\\3088241577.py:62: PerformanceWarning: DataFrame is highly fragmented.  This is usually the result of calling `frame.insert` many times, which has poor performance.  Consider joining all columns at once using pd.concat(axis=1) instead. To get a de-fragmented frame, use `newframe = frame.copy()`\n",
      "  df[f'{col}_rolling_mean_{window}m'] = df.groupby('month_id')[col].transform(lambda x: x.rolling(window, min_periods=1).mean())\n",
      "C:\\Users\\Archel\\AppData\\Local\\Temp\\ipykernel_4584\\3088241577.py:63: PerformanceWarning: DataFrame is highly fragmented.  This is usually the result of calling `frame.insert` many times, which has poor performance.  Consider joining all columns at once using pd.concat(axis=1) instead. To get a de-fragmented frame, use `newframe = frame.copy()`\n",
      "  df[f'{col}_rolling_std_{window}m']  = df.groupby('month_id')[col].transform(lambda x: x.rolling(window, min_periods=1).std())\n",
      "C:\\Users\\Archel\\AppData\\Local\\Temp\\ipykernel_4584\\3088241577.py:62: PerformanceWarning: DataFrame is highly fragmented.  This is usually the result of calling `frame.insert` many times, which has poor performance.  Consider joining all columns at once using pd.concat(axis=1) instead. To get a de-fragmented frame, use `newframe = frame.copy()`\n",
      "  df[f'{col}_rolling_mean_{window}m'] = df.groupby('month_id')[col].transform(lambda x: x.rolling(window, min_periods=1).mean())\n",
      "C:\\Users\\Archel\\AppData\\Local\\Temp\\ipykernel_4584\\3088241577.py:63: PerformanceWarning: DataFrame is highly fragmented.  This is usually the result of calling `frame.insert` many times, which has poor performance.  Consider joining all columns at once using pd.concat(axis=1) instead. To get a de-fragmented frame, use `newframe = frame.copy()`\n",
      "  df[f'{col}_rolling_std_{window}m']  = df.groupby('month_id')[col].transform(lambda x: x.rolling(window, min_periods=1).std())\n",
      "C:\\Users\\Archel\\AppData\\Local\\Temp\\ipykernel_4584\\3088241577.py:62: PerformanceWarning: DataFrame is highly fragmented.  This is usually the result of calling `frame.insert` many times, which has poor performance.  Consider joining all columns at once using pd.concat(axis=1) instead. To get a de-fragmented frame, use `newframe = frame.copy()`\n",
      "  df[f'{col}_rolling_mean_{window}m'] = df.groupby('month_id')[col].transform(lambda x: x.rolling(window, min_periods=1).mean())\n",
      "C:\\Users\\Archel\\AppData\\Local\\Temp\\ipykernel_4584\\3088241577.py:63: PerformanceWarning: DataFrame is highly fragmented.  This is usually the result of calling `frame.insert` many times, which has poor performance.  Consider joining all columns at once using pd.concat(axis=1) instead. To get a de-fragmented frame, use `newframe = frame.copy()`\n",
      "  df[f'{col}_rolling_std_{window}m']  = df.groupby('month_id')[col].transform(lambda x: x.rolling(window, min_periods=1).std())\n",
      "C:\\Users\\Archel\\AppData\\Local\\Temp\\ipykernel_4584\\3088241577.py:62: PerformanceWarning: DataFrame is highly fragmented.  This is usually the result of calling `frame.insert` many times, which has poor performance.  Consider joining all columns at once using pd.concat(axis=1) instead. To get a de-fragmented frame, use `newframe = frame.copy()`\n",
      "  df[f'{col}_rolling_mean_{window}m'] = df.groupby('month_id')[col].transform(lambda x: x.rolling(window, min_periods=1).mean())\n",
      "C:\\Users\\Archel\\AppData\\Local\\Temp\\ipykernel_4584\\3088241577.py:63: PerformanceWarning: DataFrame is highly fragmented.  This is usually the result of calling `frame.insert` many times, which has poor performance.  Consider joining all columns at once using pd.concat(axis=1) instead. To get a de-fragmented frame, use `newframe = frame.copy()`\n",
      "  df[f'{col}_rolling_std_{window}m']  = df.groupby('month_id')[col].transform(lambda x: x.rolling(window, min_periods=1).std())\n",
      "C:\\Users\\Archel\\AppData\\Local\\Temp\\ipykernel_4584\\3088241577.py:76: FutureWarning: DataFrame.fillna with 'method' is deprecated and will raise in a future version. Use obj.ffill() or obj.bfill() instead.\n",
      "  df[rolling_cols] = df[rolling_cols].fillna(method=\"bfill\")\n"
     ]
    }
   ],
   "source": [
    "train_df_without_optional_features = build_training_data(df_without_optional_features, \n",
    "                                                         imputation_method=\"ffill\",\n",
    "                                                         macro_cols=[], \n",
    "                                                         build_additional_features=True,\n",
    "                                                         handle_missing_rolling_features_strategy='bfill')\n",
    "\n",
    "train_df_with_optional_features = build_training_data(df_with_optional_features, \n",
    "                                                      imputation_method=\"ffill\",\n",
    "                                                      macro_cols=[\"fed_rate\", \"inflation_rate\", \"unemployment_rate\", \n",
    "                                                                  \"10y_treasury\", \"5y_treasury\", \"vix\"], \n",
    "                                                      build_additional_features=True,\n",
    "                                                      handle_missing_rolling_features_strategy='bfill')"
   ]
  },
  {
   "cell_type": "markdown",
   "metadata": {},
   "source": [
    "Split the data to train/test features and labels."
   ]
  },
  {
   "cell_type": "code",
   "execution_count": 24,
   "metadata": {},
   "outputs": [],
   "source": [
    "X_train_without_optional_features_clf, y_train_without_optional_features_clf, X_test_without_optional_features_clf = split_data(train_df_without_optional_features, task=\"classification\")\n",
    "X_train_with_optional_features_clf, y_train_with_optional_features_clf, X_test_with_optional_features_clf = split_data(train_df_with_optional_features, task=\"classification\")"
   ]
  },
  {
   "cell_type": "markdown",
   "metadata": {},
   "source": [
    "Train five models with data without optional features"
   ]
  },
  {
   "cell_type": "code",
   "execution_count": 25,
   "metadata": {},
   "outputs": [
    {
     "name": "stdout",
     "output_type": "stream",
     "text": [
      "Mean F1 Score across folds: 0.8114\n",
      "Mean F1 Score across folds: 0.7819\n",
      "Mean F1 Score across folds: 0.8230\n",
      "Mean F1 Score across folds: 0.8519\n",
      "Mean F1 Score across folds: 0.8574\n"
     ]
    }
   ],
   "source": [
    "lr_pipeline = create_linear_regression_pipeline(X_train_without_optional_features_clf, task=\"classification\")\n",
    "rf_pipeline = create_random_forest_pipeline(X_train_without_optional_features_clf, task=\"classification\")\n",
    "svm_pipeline = create_svm_pipeline(X_train_without_optional_features_clf, task=\"classification\")\n",
    "xgb_pipeline = create_xgb_pipeline(X_train_without_optional_features_clf, task=\"classification\")\n",
    "catboost_pipeline = create_catboost_pipeline(X_train_without_optional_features_clf, task=\"classification\")\n",
    "\n",
    "model_pipelines = [(\"logistic_regression\", lr_pipeline), \n",
    "                   (\"random_forest\", rf_pipeline),\n",
    "                   (\"support_vector_classifier\", svm_pipeline),\n",
    "                   (\"xgboost\", xgb_pipeline),\n",
    "                   (\"catboost\", catboost_pipeline)]\n",
    "\n",
    "model_comparison_df = compare_classification_models(model_pipelines, \n",
    "                                                    X_train_without_optional_features_clf, \n",
    "                                                    y_train_without_optional_features_clf, \n",
    "                                                    train_df, task=\"classification\", cv_splits=30)\n"
   ]
  },
  {
   "cell_type": "code",
   "execution_count": 26,
   "metadata": {},
   "outputs": [
    {
     "data": {
      "text/html": [
       "<div>\n",
       "<style scoped>\n",
       "    .dataframe tbody tr th:only-of-type {\n",
       "        vertical-align: middle;\n",
       "    }\n",
       "\n",
       "    .dataframe tbody tr th {\n",
       "        vertical-align: top;\n",
       "    }\n",
       "\n",
       "    .dataframe thead th {\n",
       "        text-align: right;\n",
       "    }\n",
       "</style>\n",
       "<table border=\"1\" class=\"dataframe\">\n",
       "  <thead>\n",
       "    <tr style=\"text-align: right;\">\n",
       "      <th></th>\n",
       "      <th>algorithm</th>\n",
       "      <th>f1_scores</th>\n",
       "      <th>mean_f1_score</th>\n",
       "    </tr>\n",
       "  </thead>\n",
       "  <tbody>\n",
       "    <tr>\n",
       "      <th>4</th>\n",
       "      <td>catboost</td>\n",
       "      <td>[0.7669902912621359, 0.9064327485380117, 0.972...</td>\n",
       "      <td>0.857368</td>\n",
       "    </tr>\n",
       "    <tr>\n",
       "      <th>3</th>\n",
       "      <td>xgboost</td>\n",
       "      <td>[0.7785888077858881, 0.8901734104046243, 0.945...</td>\n",
       "      <td>0.851899</td>\n",
       "    </tr>\n",
       "    <tr>\n",
       "      <th>2</th>\n",
       "      <td>support_vector_classifier</td>\n",
       "      <td>[0.6786632390745502, 0.8815028901734104, 0.903...</td>\n",
       "      <td>0.823049</td>\n",
       "    </tr>\n",
       "    <tr>\n",
       "      <th>0</th>\n",
       "      <td>logistic_regression</td>\n",
       "      <td>[0.6559139784946236, 0.8355795148247979, 0.919...</td>\n",
       "      <td>0.811383</td>\n",
       "    </tr>\n",
       "    <tr>\n",
       "      <th>1</th>\n",
       "      <td>random_forest</td>\n",
       "      <td>[0.7248908296943232, 0.8020833333333334, 0.784...</td>\n",
       "      <td>0.781944</td>\n",
       "    </tr>\n",
       "  </tbody>\n",
       "</table>\n",
       "</div>"
      ],
      "text/plain": [
       "                   algorithm  \\\n",
       "4                   catboost   \n",
       "3                    xgboost   \n",
       "2  support_vector_classifier   \n",
       "0        logistic_regression   \n",
       "1              random_forest   \n",
       "\n",
       "                                           f1_scores  mean_f1_score  \n",
       "4  [0.7669902912621359, 0.9064327485380117, 0.972...       0.857368  \n",
       "3  [0.7785888077858881, 0.8901734104046243, 0.945...       0.851899  \n",
       "2  [0.6786632390745502, 0.8815028901734104, 0.903...       0.823049  \n",
       "0  [0.6559139784946236, 0.8355795148247979, 0.919...       0.811383  \n",
       "1  [0.7248908296943232, 0.8020833333333334, 0.784...       0.781944  "
      ]
     },
     "execution_count": 26,
     "metadata": {},
     "output_type": "execute_result"
    }
   ],
   "source": [
    "model_comparison_df.sort_values(by=[\"mean_f1_score\"], ascending=False)"
   ]
  },
  {
   "cell_type": "markdown",
   "metadata": {},
   "source": [
    "Now train five models with data with optional features"
   ]
  },
  {
   "cell_type": "code",
   "execution_count": 27,
   "metadata": {},
   "outputs": [
    {
     "name": "stdout",
     "output_type": "stream",
     "text": [
      "Mean F1 Score across folds: 0.7724\n",
      "Mean F1 Score across folds: 0.7509\n",
      "Mean F1 Score across folds: 0.7880\n",
      "Mean F1 Score across folds: 0.8389\n",
      "Mean F1 Score across folds: 0.8400\n"
     ]
    }
   ],
   "source": [
    "lr_pipeline = create_linear_regression_pipeline(X_train_with_optional_features_clf, task=\"classification\")\n",
    "rf_pipeline = create_random_forest_pipeline(X_train_with_optional_features_clf, task=\"classification\")\n",
    "svm_pipeline = create_svm_pipeline(X_train_with_optional_features_clf, task=\"classification\")\n",
    "xgb_pipeline = create_xgb_pipeline(X_train_with_optional_features_clf, task=\"classification\")\n",
    "catboost_pipeline = create_catboost_pipeline(X_train_with_optional_features_clf, task=\"classification\")\n",
    "\n",
    "model_pipelines = [(\"logistic_regression\", lr_pipeline), \n",
    "                   (\"random_forest\", rf_pipeline),\n",
    "                   (\"support_vector_classifier\", svm_pipeline),\n",
    "                   (\"xgboost\", xgb_pipeline),\n",
    "                   (\"catboost\", catboost_pipeline)]\n",
    "\n",
    "model_comparison_df = compare_classification_models(model_pipelines, \n",
    "                                                    X_train_with_optional_features_clf, \n",
    "                                                    y_train_with_optional_features_clf, \n",
    "                                                    train_df, task=\"classification\", cv_splits=30)"
   ]
  },
  {
   "cell_type": "code",
   "execution_count": 28,
   "metadata": {},
   "outputs": [
    {
     "data": {
      "text/html": [
       "<div>\n",
       "<style scoped>\n",
       "    .dataframe tbody tr th:only-of-type {\n",
       "        vertical-align: middle;\n",
       "    }\n",
       "\n",
       "    .dataframe tbody tr th {\n",
       "        vertical-align: top;\n",
       "    }\n",
       "\n",
       "    .dataframe thead th {\n",
       "        text-align: right;\n",
       "    }\n",
       "</style>\n",
       "<table border=\"1\" class=\"dataframe\">\n",
       "  <thead>\n",
       "    <tr style=\"text-align: right;\">\n",
       "      <th></th>\n",
       "      <th>algorithm</th>\n",
       "      <th>f1_scores</th>\n",
       "      <th>mean_f1_score</th>\n",
       "    </tr>\n",
       "  </thead>\n",
       "  <tbody>\n",
       "    <tr>\n",
       "      <th>4</th>\n",
       "      <td>catboost</td>\n",
       "      <td>[0.8676789587852495, 0.8790896159317212, 0.952...</td>\n",
       "      <td>0.839974</td>\n",
       "    </tr>\n",
       "    <tr>\n",
       "      <th>3</th>\n",
       "      <td>xgboost</td>\n",
       "      <td>[0.8663793103448276, 0.8805755395683453, 0.915...</td>\n",
       "      <td>0.838930</td>\n",
       "    </tr>\n",
       "    <tr>\n",
       "      <th>2</th>\n",
       "      <td>support_vector_classifier</td>\n",
       "      <td>[0.7458432304038005, 0.7226107226107226, 0.851...</td>\n",
       "      <td>0.788036</td>\n",
       "    </tr>\n",
       "    <tr>\n",
       "      <th>0</th>\n",
       "      <td>logistic_regression</td>\n",
       "      <td>[0.8466819221967964, 0.8337801608579088, 0.822...</td>\n",
       "      <td>0.772387</td>\n",
       "    </tr>\n",
       "    <tr>\n",
       "      <th>1</th>\n",
       "      <td>random_forest</td>\n",
       "      <td>[0.6811881188118812, 0.8037383177570093, 0.775...</td>\n",
       "      <td>0.750927</td>\n",
       "    </tr>\n",
       "  </tbody>\n",
       "</table>\n",
       "</div>"
      ],
      "text/plain": [
       "                   algorithm  \\\n",
       "4                   catboost   \n",
       "3                    xgboost   \n",
       "2  support_vector_classifier   \n",
       "0        logistic_regression   \n",
       "1              random_forest   \n",
       "\n",
       "                                           f1_scores  mean_f1_score  \n",
       "4  [0.8676789587852495, 0.8790896159317212, 0.952...       0.839974  \n",
       "3  [0.8663793103448276, 0.8805755395683453, 0.915...       0.838930  \n",
       "2  [0.7458432304038005, 0.7226107226107226, 0.851...       0.788036  \n",
       "0  [0.8466819221967964, 0.8337801608579088, 0.822...       0.772387  \n",
       "1  [0.6811881188118812, 0.8037383177570093, 0.775...       0.750927  "
      ]
     },
     "execution_count": 28,
     "metadata": {},
     "output_type": "execute_result"
    }
   ],
   "source": [
    "model_comparison_df.sort_values(by=[\"mean_f1_score\"], ascending=False)"
   ]
  },
  {
   "cell_type": "markdown",
   "metadata": {},
   "source": [
    "From the comparison, we observe that all models show a decrease in F1-score when trained with the optional (macro) features. This suggests that these features introduce more noise than useful signal. Therefore, we proceed using only the primary dataset without the optional features."
   ]
  },
  {
   "cell_type": "markdown",
   "metadata": {},
   "source": [
    "## 6. Hyperparameter Tuning\n",
    "\n",
    "To further improve model performance, we perform hyperparameter tuning for all five models. Each model has its own unique set of hyperparameters, so tuning must be done individually.\n",
    "\n",
    "Based on our earlier results, we will use the dataset without optional features for all experiments.\n",
    "\n",
    "Since hyperparameter tuning involves training multiple configurations, we reduce the number of cross-validation folds to n_splits=5 to speed up computation. While using the full set of folds (n_splits=30) could reduce variance, it would significantly increase runtime."
   ]
  },
  {
   "cell_type": "markdown",
   "metadata": {},
   "source": [
    "### 6.1. Logistic Regression Tuning\n",
    "\n",
    "Key hyperparamters to tune:\n",
    "\n",
    "1. Penalty\n",
    "- L1: Lasso (feature selection effect).\n",
    "- L2: Ridge (shrinkage, prevents overfitting).\n",
    "- elasticnet: A combination of both L1 and L2.\n",
    "\n",
    "2. C: Inverse of regularization strength. Smaller values = stronger regularization.\n",
    "\n",
    "3. Solver\n",
    "- liblinear: Good for small/medium datasets, supports L1.\n",
    "- saga: Scales better, supports L1/L2/elasticnet."
   ]
  },
  {
   "cell_type": "code",
   "execution_count": 29,
   "metadata": {},
   "outputs": [
    {
     "name": "stderr",
     "output_type": "stream",
     "text": [
      "C:\\Users\\Archel\\AppData\\Local\\Temp\\ipykernel_4584\\3088241577.py:7: FutureWarning: Series.fillna with 'method' is deprecated and will raise in a future version. Use obj.ffill() or obj.bfill() instead.\n",
      "  df[column] = df[column].fillna(method=\"ffill\")\n",
      "C:\\Users\\Archel\\AppData\\Local\\Temp\\ipykernel_4584\\3088241577.py:76: FutureWarning: DataFrame.fillna with 'method' is deprecated and will raise in a future version. Use obj.ffill() or obj.bfill() instead.\n",
      "  df[rolling_cols] = df[rolling_cols].fillna(method=\"bfill\")\n"
     ]
    }
   ],
   "source": [
    "df = merge_data(stock, company, index, train_targets, optional_data_list=None)\n",
    "train_df = build_training_data(df, \n",
    "                               imputation_method=\"ffill\",\n",
    "                               macro_cols=[], \n",
    "                               build_additional_features=True,\n",
    "                               handle_missing_rolling_features_strategy='bfill')\n",
    "                               \n",
    "X_train_clf, y_train_clf, X_test_clf = split_data(train_df, task=\"classification\")\n"
   ]
  },
  {
   "cell_type": "code",
   "execution_count": 30,
   "metadata": {},
   "outputs": [],
   "source": [
    "def tune_logistic_regression(df, X, y, n_splits):\n",
    "    # Build pipeline\n",
    "    categorical_features, ordinal_features, numerical_features = get_features(X)\n",
    "    preprocessor = create_feature_preprocessor(categorical_features, ordinal_features, numerical_features)\n",
    "    \n",
    "    pipe = Pipeline(steps=[\n",
    "        (\"preprocessor\", preprocessor),\n",
    "        (\"model\", LogisticRegression(max_iter=1000, random_state=42))\n",
    "    ])\n",
    "\n",
    "    # Hyperparameter search space\n",
    "    param_grid = {\n",
    "        \"model__penalty\": [\"l1\", \"l2\"],\n",
    "        \"model__C\": [0.01, 0.1, 1, 10, 100],\n",
    "        \"model__solver\": [\"liblinear\", \"saga\"]\n",
    "    }\n",
    "\n",
    "    # Generate CV folds from the custom splitter\n",
    "    cv_splits = list(time_series_cv_splits(df, warmup=12, n_splits=n_splits, window_type=\"expanding\"))\n",
    "\n",
    "    # Grid search with the time-series CV\n",
    "    grid_search = GridSearchCV(\n",
    "        pipe,\n",
    "        param_grid,\n",
    "        cv=cv_splits,\n",
    "        scoring=\"f1\",\n",
    "        n_jobs=-1,\n",
    "        verbose=2\n",
    "    )\n",
    "\n",
    "    grid_search.fit(X, y)\n",
    "\n",
    "    print(\"Best Params:\", grid_search.best_params_)\n",
    "    print(\"Best CV F1 Score:\", grid_search.best_score_)\n",
    "\n",
    "    return grid_search.best_estimator_"
   ]
  },
  {
   "cell_type": "code",
   "execution_count": 31,
   "metadata": {},
   "outputs": [
    {
     "name": "stdout",
     "output_type": "stream",
     "text": [
      "Fitting 5 folds for each of 20 candidates, totalling 100 fits\n",
      "Best Params: {'model__C': 0.01, 'model__penalty': 'l1', 'model__solver': 'liblinear'}\n",
      "Best CV F1 Score: 0.8640167062751314\n"
     ]
    }
   ],
   "source": [
    "logreg_best_estimator = tune_logistic_regression(train_df, X_train_clf, y_train_clf, n_splits=5)"
   ]
  },
  {
   "cell_type": "code",
   "execution_count": 32,
   "metadata": {},
   "outputs": [],
   "source": [
    "with open('../files/models/classification/tuned_linear_regression_model.pkl', 'wb') as file:\n",
    "    pickle.dump(logreg_best_estimator, file)"
   ]
  },
  {
   "cell_type": "markdown",
   "metadata": {},
   "source": [
    "### 6.2. Random Forest Tuning\n",
    "\n",
    "Key hyperparameters to tune:\n",
    "1. Tree depth\n",
    "2. Number of trees\n",
    "3. Min samples split & leaf\n",
    "4. Max number of features \n",
    "\n",
    "Also notice we used randomised search instead of grid search like logistic regression. Random forest has more parameters compared to other models and randomised search provides efficient search space while also finding the best hyperparameter combination."
   ]
  },
  {
   "cell_type": "code",
   "execution_count": 33,
   "metadata": {},
   "outputs": [],
   "source": [
    "def tune_random_forest(df, X, y, n_splits, task):\n",
    "    # Build pipeline\n",
    "    rf_pipeline = create_random_forest_pipeline(X, task)\n",
    "\n",
    "    # Hyperparameter search space\n",
    "    param_dist = {\n",
    "        \"model__n_estimators\": randint(100, 500),   \n",
    "        \"model__max_depth\": [None, 5, 10, 20, 30],   \n",
    "        \"model__min_samples_split\": randint(2, 20),  \n",
    "        \"model__min_samples_leaf\": randint(1, 10),   \n",
    "        \"model__max_features\": [\"sqrt\", \"log2\", None]\n",
    "    }\n",
    "\n",
    "    # Generate CV folds from the custom splitter\n",
    "    cv_splits = list(time_series_cv_splits(df, warmup=12, n_splits=n_splits, window_type=\"expanding\"))\n",
    "\n",
    "    # Randomized search\n",
    "    search = RandomizedSearchCV(\n",
    "        rf_pipeline,\n",
    "        param_distributions=param_dist,\n",
    "        n_iter=30,  \n",
    "        cv=cv_splits,\n",
    "        scoring=\"f1\",\n",
    "        n_jobs=-1,\n",
    "        verbose=2,\n",
    "        random_state=42\n",
    "    )\n",
    "\n",
    "    search.fit(X, y)\n",
    "\n",
    "    print(\"Best Params:\", search.best_params_)\n",
    "    print(\"Best CV F1 Score:\", search.best_score_)\n",
    "\n",
    "    return search.best_estimator_"
   ]
  },
  {
   "cell_type": "code",
   "execution_count": 34,
   "metadata": {},
   "outputs": [
    {
     "name": "stdout",
     "output_type": "stream",
     "text": [
      "Fitting 5 folds for each of 30 candidates, totalling 150 fits\n",
      "Best Params: {'model__max_depth': 30, 'model__max_features': None, 'model__min_samples_leaf': 1, 'model__min_samples_split': 8, 'model__n_estimators': 108}\n",
      "Best CV F1 Score: 0.8785998745763818\n"
     ]
    }
   ],
   "source": [
    "rf_best_estimator = tune_random_forest(train_df, X_train_clf, y_train_clf, n_splits=5, task=\"classification\")"
   ]
  },
  {
   "cell_type": "code",
   "execution_count": 35,
   "metadata": {},
   "outputs": [],
   "source": [
    "with open('../files/models/classification/tuned_random_forest_model.pkl', 'wb') as file:\n",
    "    pickle.dump(rf_best_estimator, file)"
   ]
  },
  {
   "cell_type": "markdown",
   "metadata": {},
   "source": [
    "### 6.3. SVM Tuning\n",
    "\n",
    "Key hyperparameters to tune:\n",
    "\n",
    "1. C: regularization strength\n",
    "2. Kernel: usually \"linear\", \"rbf\", or \"poly\"\n",
    "3. Gamma: kernel coefficient (important for \"rbf\"/\"poly\")"
   ]
  },
  {
   "cell_type": "code",
   "execution_count": 36,
   "metadata": {},
   "outputs": [],
   "source": [
    "def tune_svm(df, X, y, n_splits, task):\n",
    "    svm_pipeline = create_svm_pipeline(X, task)\n",
    "\n",
    "    if task == \"classification\":\n",
    "        param_dist = {\n",
    "            \"model__C\": loguniform(1e-3, 1e3),\n",
    "            \"model__kernel\": [\"linear\", \"rbf\", \"poly\"],\n",
    "            \"model__gamma\": loguniform(1e-4, 1e1)  # only for rbf/poly\n",
    "        }\n",
    "    elif task == \"regression\":\n",
    "        param_dist = {\n",
    "            \"model__C\": loguniform(1e-3, 1e3),\n",
    "            \"model__kernel\": [\"linear\", \"rbf\", \"poly\"],\n",
    "            \"model__gamma\": loguniform(1e-4, 1e1),\n",
    "            \"model__epsilon\": [0.01, 0.1, 0.2, 0.5]  # SVR specific\n",
    "        }\n",
    "\n",
    "    cv_splits = list(time_series_cv_splits(df, warmup=12, n_splits=n_splits, window_type=\"expanding\"))\n",
    "\n",
    "    search = RandomizedSearchCV(\n",
    "        svm_pipeline,\n",
    "        param_distributions=param_dist,\n",
    "        n_iter=25,\n",
    "        cv=cv_splits,\n",
    "        scoring=\"f1\" if task == \"classification\" else \"neg_mean_squared_error\",\n",
    "        n_jobs=-1,\n",
    "        verbose=2,\n",
    "        random_state=42\n",
    "    )\n",
    "\n",
    "    search.fit(X, y)\n",
    "\n",
    "    print(\"Best Params:\", search.best_params_)\n",
    "    print(\"Best CV Score:\", search.best_score_)\n",
    "\n",
    "    return search.best_estimator_"
   ]
  },
  {
   "cell_type": "code",
   "execution_count": 37,
   "metadata": {},
   "outputs": [
    {
     "name": "stdout",
     "output_type": "stream",
     "text": [
      "Fitting 5 folds for each of 25 candidates, totalling 125 fits\n",
      "Best Params: {'model__C': np.float64(9.443515687962675), 'model__gamma': np.float64(0.003618723330959626), 'model__kernel': 'rbf'}\n",
      "Best CV Score: 0.8484647317273748\n"
     ]
    }
   ],
   "source": [
    "svm_best_estimator = tune_svm(train_df, X_train_clf, y_train_clf, n_splits=5, task=\"classification\")"
   ]
  },
  {
   "cell_type": "code",
   "execution_count": 38,
   "metadata": {},
   "outputs": [],
   "source": [
    "with open('../files/models/classification/tuned_svm_model.pkl', 'wb') as file:\n",
    "    pickle.dump(svm_best_estimator, file)"
   ]
  },
  {
   "cell_type": "markdown",
   "metadata": {},
   "source": [
    "### 6.4. XGB Tuning\n",
    "\n",
    "Key hyperparameters to tune:\n",
    "\n",
    "1. Tree structure / complexity\n",
    "- max_depth: controls tree depth\n",
    "- min_child_weight: minimum sum of instance weights in a child\n",
    "- gamma: minimum loss reduction required for further partition\n",
    "\n",
    "2. Sampling\n",
    "- subsample: row sampling\n",
    "- colsample_bytree: feature sampling\n",
    "\n",
    "3. Regularization:\n",
    "- reg_alpha (L1)\n",
    "- reg_lambda (L2)\n",
    "\n",
    "4. Learning:\n",
    "- n_estimators: number of boosting rounds\n",
    "- learning_rate: step size shrinkage"
   ]
  },
  {
   "cell_type": "code",
   "execution_count": 39,
   "metadata": {},
   "outputs": [],
   "source": [
    "def tune_xgb(df, X, y, n_splits, task):\n",
    "    xgb_pipeline = create_xgb_pipeline(X, task)\n",
    "\n",
    "    if task == \"classification\":\n",
    "        param_dist = {\n",
    "            \"model__n_estimators\": randint(100, 500),\n",
    "            \"model__max_depth\": randint(3, 10),\n",
    "            \"model__learning_rate\": loguniform(0.01, 0.3),\n",
    "            \"model__subsample\": uniform(0.6, 0.4),        # 0.6–1.0\n",
    "            \"model__colsample_bytree\": uniform(0.6, 0.4), # 0.6–1.0\n",
    "            \"model__gamma\": uniform(0, 5),\n",
    "            \"model__min_child_weight\": randint(1, 10),\n",
    "            \"model__reg_alpha\": loguniform(1e-3, 10),\n",
    "            \"model__reg_lambda\": loguniform(1e-3, 10),\n",
    "        }\n",
    "        scoring = \"f1\"\n",
    "    else:\n",
    "        param_dist = {\n",
    "            \"model__n_estimators\": randint(100, 500),\n",
    "            \"model__max_depth\": randint(3, 10),\n",
    "            \"model__learning_rate\": loguniform(0.01, 0.3),\n",
    "            \"model__subsample\": uniform(0.6, 0.4),\n",
    "            \"model__colsample_bytree\": uniform(0.6, 0.4),\n",
    "            \"model__gamma\": uniform(0, 5),\n",
    "            \"model__min_child_weight\": randint(1, 10),\n",
    "            \"model__reg_alpha\": loguniform(1e-3, 10),\n",
    "            \"model__reg_lambda\": loguniform(1e-3, 10),\n",
    "        }\n",
    "        scoring = \"neg_mean_squared_error\"\n",
    "\n",
    "    cv_splits = list(time_series_cv_splits(df, warmup=12, n_splits=n_splits, window_type=\"expanding\"))\n",
    "\n",
    "    search = RandomizedSearchCV(\n",
    "        xgb_pipeline,\n",
    "        param_distributions=param_dist,\n",
    "        n_iter=30,             \n",
    "        cv=cv_splits,\n",
    "        scoring=scoring,\n",
    "        n_jobs=-1,\n",
    "        verbose=2,\n",
    "        random_state=42\n",
    "    )\n",
    "\n",
    "    search.fit(X, y)\n",
    "\n",
    "    print(\"Best Params:\", search.best_params_)\n",
    "    print(\"Best CV Score:\", search.best_score_)\n",
    "\n",
    "    return search.best_estimator_"
   ]
  },
  {
   "cell_type": "code",
   "execution_count": 40,
   "metadata": {},
   "outputs": [
    {
     "name": "stdout",
     "output_type": "stream",
     "text": [
      "Fitting 5 folds for each of 30 candidates, totalling 150 fits\n",
      "Best Params: {'model__colsample_bytree': np.float64(0.8909087983425683), 'model__gamma': np.float64(1.632703844029177), 'model__learning_rate': np.float64(0.06960091021987622), 'model__max_depth': 6, 'model__min_child_weight': 9, 'model__n_estimators': 289, 'model__reg_alpha': np.float64(0.02001342062287998), 'model__reg_lambda': np.float64(0.03586816498627549), 'model__subsample': np.float64(0.7085396127095583)}\n",
      "Best CV Score: 0.8943218868593839\n"
     ]
    }
   ],
   "source": [
    "xgb_best_estimator = tune_xgb(train_df, X_train_clf, y_train_clf, n_splits=5, task=\"classification\")"
   ]
  },
  {
   "cell_type": "code",
   "execution_count": 41,
   "metadata": {},
   "outputs": [],
   "source": [
    "with open('../files/models/classification/tuned_xgb_model.pkl', 'wb') as file:\n",
    "    pickle.dump(xgb_best_estimator, file)"
   ]
  },
  {
   "cell_type": "markdown",
   "metadata": {},
   "source": [
    "### 6.5. Catboost Tuning\n",
    "\n",
    "Key hyperparameters to tune:\n",
    "- iterations (n_estimators): Number of boosting rounds.\n",
    "- depth: Tree depth (controls complexity, typical range 4–10).\n",
    "- learning_rate: Shrinkage (tradeoff vs iterations).\n",
    "- l2_leaf_reg: L2 regularization.\n",
    "- bagging_temperature: Controls subsampling randomness."
   ]
  },
  {
   "cell_type": "code",
   "execution_count": 42,
   "metadata": {},
   "outputs": [],
   "source": [
    "def tune_catboost(df, X, y, n_splits, task):\n",
    "    cat_pipeline = create_catboost_pipeline(X, task)\n",
    "\n",
    "    if task == \"classification\":\n",
    "        param_dist = {\n",
    "            \"model__iterations\": randint(200, 1000),\n",
    "            \"model__depth\": randint(4, 10),\n",
    "            \"model__learning_rate\": loguniform(0.01, 0.3),\n",
    "            \"model__l2_leaf_reg\": loguniform(1, 10),\n",
    "            \"model__bagging_temperature\": uniform(0, 5),\n",
    "        }\n",
    "        scoring = \"f1\"\n",
    "    else:  # regression\n",
    "        param_dist = {\n",
    "            \"model__iterations\": randint(200, 1000),\n",
    "            \"model__depth\": randint(4, 10),\n",
    "            \"model__learning_rate\": loguniform(0.01, 0.3),\n",
    "            \"model__l2_leaf_reg\": loguniform(1, 10),\n",
    "            \"model__bagging_temperature\": uniform(0, 5),\n",
    "        }\n",
    "        scoring = \"neg_mean_squared_error\"\n",
    "\n",
    "    cv_splits = list(time_series_cv_splits(df, warmup=12, n_splits=n_splits, window_type=\"expanding\"))\n",
    "\n",
    "    search = RandomizedSearchCV(\n",
    "        cat_pipeline,\n",
    "        param_distributions=param_dist,\n",
    "        n_iter=30,         \n",
    "        cv=cv_splits,\n",
    "        scoring=scoring,\n",
    "        n_jobs=-1,\n",
    "        verbose=2,\n",
    "        random_state=42\n",
    "    )\n",
    "\n",
    "    search.fit(X, y)\n",
    "\n",
    "    print(\"Best Params:\", search.best_params_)\n",
    "    print(\"Best CV Score:\", search.best_score_)\n",
    "\n",
    "    return search.best_estimator_"
   ]
  },
  {
   "cell_type": "code",
   "execution_count": 43,
   "metadata": {},
   "outputs": [
    {
     "name": "stdout",
     "output_type": "stream",
     "text": [
      "Best Params: {'model__bagging_temperature': np.float64(3.005575058716044), 'model__depth': 6, 'model__iterations': 861, 'model__l2_leaf_reg': np.float64(1.1387059213756816), 'model__learning_rate': np.float64(0.11654126622287461)}\n",
      "Best CV Score: 0.9103267106963757\n"
     ]
    }
   ],
   "source": [
    "catboost_best_estimator = tune_catboost(train_df, X_train_clf, y_train_clf, n_splits=5, task=\"classification\")"
   ]
  },
  {
   "cell_type": "code",
   "execution_count": 44,
   "metadata": {},
   "outputs": [],
   "source": [
    "with open('../files/models/classification/tuned_catboost_model.pkl', 'wb') as file:\n",
    "    pickle.dump(catboost_best_estimator, file)"
   ]
  },
  {
   "cell_type": "markdown",
   "metadata": {},
   "source": [
    "### 6.6. Tuned Model Comparison\n",
    "\n",
    "Again, we compare all five tuned models sort them based on the F1 score in descending order."
   ]
  },
  {
   "cell_type": "code",
   "execution_count": 45,
   "metadata": {},
   "outputs": [],
   "source": [
    "with open(\"../files/models/classification/tuned_linear_regression_model.pkl\", 'rb') as file:\n",
    "    logreg_best_estimator = pickle.load(file)\n",
    "\n",
    "with open(\"../files/models/classification/tuned_random_forest_model.pkl\", 'rb') as file:\n",
    "    rf_best_estimator = pickle.load(file)\n",
    "\n",
    "with open(\"../files/models/classification/tuned_svm_model.pkl\", 'rb') as file:\n",
    "    svm_best_estimator = pickle.load(file)\n",
    "\n",
    "with open(\"../files/models/classification/tuned_xgb_model.pkl\", 'rb') as file:\n",
    "    xgb_best_estimator = pickle.load(file)\n",
    "\n",
    "with open(\"../files/models/classification/tuned_catboost_model.pkl\", 'rb') as file:\n",
    "    catboost_best_estimator = pickle.load(file)"
   ]
  },
  {
   "cell_type": "code",
   "execution_count": 46,
   "metadata": {},
   "outputs": [],
   "source": [
    "def compare_tuned_models(model_pipelines, X_train, y_train, train_df, task, cv_splits):\n",
    "    evaluation_dict = {\"algorithm\": [], \"f1_scores\": [], \"mean_f1_score\": []}\n",
    "    for model_pipeline in model_pipelines:\n",
    "        f1_scores = train_single_pipeline(model_pipeline[1], X_train, y_train, train_df, cv_splits, task)\n",
    "        mean_f1_score = np.mean(f1_scores)\n",
    "        evaluation_dict[\"algorithm\"].append(model_pipeline[0])\n",
    "        evaluation_dict[\"f1_scores\"].append(f1_scores)\n",
    "        evaluation_dict[\"mean_f1_score\"].append(mean_f1_score)\n",
    "\n",
    "    return pd.DataFrame(evaluation_dict)"
   ]
  },
  {
   "cell_type": "code",
   "execution_count": 47,
   "metadata": {},
   "outputs": [
    {
     "name": "stdout",
     "output_type": "stream",
     "text": [
      "Mean F1 Score across folds: 0.8114\n",
      "Mean F1 Score across folds: 0.8247\n",
      "Mean F1 Score across folds: 0.8257\n",
      "Mean F1 Score across folds: 0.8525\n",
      "Mean F1 Score across folds: 0.8574\n"
     ]
    },
    {
     "data": {
      "text/html": [
       "<div>\n",
       "<style scoped>\n",
       "    .dataframe tbody tr th:only-of-type {\n",
       "        vertical-align: middle;\n",
       "    }\n",
       "\n",
       "    .dataframe tbody tr th {\n",
       "        vertical-align: top;\n",
       "    }\n",
       "\n",
       "    .dataframe thead th {\n",
       "        text-align: right;\n",
       "    }\n",
       "</style>\n",
       "<table border=\"1\" class=\"dataframe\">\n",
       "  <thead>\n",
       "    <tr style=\"text-align: right;\">\n",
       "      <th></th>\n",
       "      <th>algorithm</th>\n",
       "      <th>f1_scores</th>\n",
       "      <th>mean_f1_score</th>\n",
       "    </tr>\n",
       "  </thead>\n",
       "  <tbody>\n",
       "    <tr>\n",
       "      <th>4</th>\n",
       "      <td>catboost</td>\n",
       "      <td>[0.7669902912621359, 0.9064327485380117, 0.972...</td>\n",
       "      <td>0.857368</td>\n",
       "    </tr>\n",
       "    <tr>\n",
       "      <th>3</th>\n",
       "      <td>xgboost</td>\n",
       "      <td>[0.7368421052631579, 0.9164179104477612, 0.944...</td>\n",
       "      <td>0.852548</td>\n",
       "    </tr>\n",
       "    <tr>\n",
       "      <th>2</th>\n",
       "      <td>svm</td>\n",
       "      <td>[0.6771653543307087, 0.8571428571428571, 0.925...</td>\n",
       "      <td>0.825653</td>\n",
       "    </tr>\n",
       "    <tr>\n",
       "      <th>1</th>\n",
       "      <td>random_forest</td>\n",
       "      <td>[0.7783018867924528, 0.91350531107739, 0.90751...</td>\n",
       "      <td>0.824737</td>\n",
       "    </tr>\n",
       "    <tr>\n",
       "      <th>0</th>\n",
       "      <td>logistic_regression</td>\n",
       "      <td>[0.6559139784946236, 0.8355795148247979, 0.919...</td>\n",
       "      <td>0.811383</td>\n",
       "    </tr>\n",
       "  </tbody>\n",
       "</table>\n",
       "</div>"
      ],
      "text/plain": [
       "             algorithm                                          f1_scores  \\\n",
       "4             catboost  [0.7669902912621359, 0.9064327485380117, 0.972...   \n",
       "3              xgboost  [0.7368421052631579, 0.9164179104477612, 0.944...   \n",
       "2                  svm  [0.6771653543307087, 0.8571428571428571, 0.925...   \n",
       "1        random_forest  [0.7783018867924528, 0.91350531107739, 0.90751...   \n",
       "0  logistic_regression  [0.6559139784946236, 0.8355795148247979, 0.919...   \n",
       "\n",
       "   mean_f1_score  \n",
       "4       0.857368  \n",
       "3       0.852548  \n",
       "2       0.825653  \n",
       "1       0.824737  \n",
       "0       0.811383  "
      ]
     },
     "execution_count": 47,
     "metadata": {},
     "output_type": "execute_result"
    }
   ],
   "source": [
    "best_model_pipelines = [(\"logistic_regression\", logreg_best_estimator), (\"random_forest\", rf_best_estimator), (\"svm\", svm_best_estimator), (\"xgboost\", xgb_best_estimator), (\"catboost\", catboost_best_estimator)]\n",
    "best_model_comparison_df = compare_tuned_models(best_model_pipelines, X_train_clf, y_train_clf, train_df, task=\"classification\", cv_splits=30)\n",
    "best_model_comparison_df.sort_values(by=[\"mean_f1_score\"], ascending=[False])"
   ]
  },
  {
   "cell_type": "markdown",
   "metadata": {},
   "source": [
    "The tuned models are performing consistently well, and CatBoost/XGBoost are leading the pack with very close F1 scores (~0.85)."
   ]
  },
  {
   "cell_type": "markdown",
   "metadata": {},
   "source": [
    "## 7. Feature Selection\n",
    "\n",
    "To push model performance further, we apply feature selection. Traditional feature selection methods evaluate features one by one, adding them into the model and checking whether performance improves. While effective, this process can be very time-consuming.\n",
    "\n",
    "To speed this up, we make a small modification: instead of sequentially testing each feature, we leverage SHAP values from the shap library. SHAP provides model explainability by ranking features according to their importance and showing how each feature contributes to predictions.\n",
    "\n",
    "Since CatBoost and XGBoost are our top-performing models, we use them to generate and plot feature importance rankings."
   ]
  },
  {
   "cell_type": "code",
   "execution_count": 48,
   "metadata": {},
   "outputs": [
    {
     "data": {
      "image/png": "[encoded data removed]",
      "text/plain": [
       "<Figure size 800x950 with 2 Axes>"
      ]
     },
     "metadata": {},
     "output_type": "display_data"
    }
   ],
   "source": [
    "# Use the best tuned CatBoost model to compute SHAP values and plot the feature importance\n",
    "explainer_cat = shap.TreeExplainer(catboost_best_estimator.named_steps[\"model\"])\n",
    "X_train_processed = catboost_best_estimator.named_steps[\"preprocessor\"].transform(train_df)\n",
    "shap_values_cat = explainer_cat.shap_values(X_train_processed)\n",
    "shap.summary_plot(shap_values_cat, X_train_processed, feature_names=catboost_best_estimator.named_steps[\"preprocessor\"].get_feature_names_out())"
   ]
  },
  {
   "cell_type": "code",
   "execution_count": 49,
   "metadata": {},
   "outputs": [
    {
     "data": {
      "image/png": "[encoded data removed]",
      "text/plain": [
       "<Figure size 800x950 with 2 Axes>"
      ]
     },
     "metadata": {},
     "output_type": "display_data"
    }
   ],
   "source": [
    "# Use the best tuned XGBoost model to compute SHAP values and plot the feature importance\n",
    "explainer_xgb = shap.TreeExplainer(xgb_best_estimator.named_steps[\"model\"])\n",
    "X_train_processed = xgb_best_estimator.named_steps[\"preprocessor\"].transform(train_df)\n",
    "shap_values_xgb = explainer_xgb.shap_values(X_train_processed)\n",
    "shap.summary_plot(shap_values_xgb, X_train_processed, feature_names=xgb_best_estimator.named_steps[\"preprocessor\"].get_feature_names_out())"
   ]
  },
  {
   "cell_type": "markdown",
   "metadata": {},
   "source": [
    "The SHAP feature importance rankings from CatBoost and XGBoost are largely consistent. With this ordering in hand, we can apply forward or backward feature selection to identify the point where adding more features stops improving performance or even starts to degrade it.\n",
    "\n",
    "Since CatBoost is our strongest model, we use it for forward selection. To accelerate the process, we add features in batches of five rather than one at a time."
   ]
  },
  {
   "cell_type": "code",
   "execution_count": 53,
   "metadata": {},
   "outputs": [],
   "source": [
    "# Custom transformer to select top-k features based on importance\n",
    "class TopKFeatureSelector(BaseEstimator, TransformerMixin):\n",
    "    def __init__(self, feature_names, importances, k=20):\n",
    "        self.feature_names = feature_names\n",
    "        self.importances = importances\n",
    "        self.k = k\n",
    "        self.selected_idx = None\n",
    "\n",
    "    def fit(self, X, y=None):\n",
    "        ranking = np.argsort(self.importances)[::-1]\n",
    "        self.selected_idx = ranking[:self.k]\n",
    "        return self\n",
    "\n",
    "    def transform(self, X):\n",
    "        return X[:, self.selected_idx]\n",
    "\n",
    "    def get_feature_names_out(self, input_features=None):\n",
    "        return [self.feature_names[i] for i in self.selected_idx]\n",
    "\n",
    "def feature_selection_curve_with_pipeline(base_pipeline, X, y, cv_splits, step=5):\n",
    "    results = []\n",
    "\n",
    "    # Get feature importances\n",
    "    model = base_pipeline.named_steps[\"model\"]\n",
    "    importances = model.get_feature_importance()\n",
    "    feature_names = base_pipeline.named_steps[\"preprocessor\"].get_feature_names_out()\n",
    "\n",
    "    sorted_idx = np.argsort(importances)[::-1]\n",
    "\n",
    "    for k in range(step, len(sorted_idx) + 1, step):\n",
    "        print(f\"Training with {k} number of features...\")\n",
    "        selected_idx = sorted_idx[:k]\n",
    "\n",
    "        f1_scores = []\n",
    "        for train_idx, val_idx in cv_splits:\n",
    "            X_train, X_val = X.iloc[train_idx], X.iloc[val_idx]\n",
    "            y_train, y_val = y.iloc[train_idx], y.iloc[val_idx]\n",
    "\n",
    "            # Build fresh pipeline each time\n",
    "            preprocessor = base_pipeline.named_steps[\"preprocessor\"]\n",
    "            cat_params = base_pipeline.named_steps[\"model\"].get_params()\n",
    "            cat_params[\"verbose\"] = 0\n",
    "\n",
    "            fs_pipeline = Pipeline(steps=[\n",
    "                (\"preprocessor\", preprocessor),\n",
    "                (\"selector\", TopKFeatureSelector(feature_names, importances, k=k)),\n",
    "                (\"model\", CatBoostClassifier(**cat_params))\n",
    "            ])\n",
    "\n",
    "            fs_pipeline.fit(X_train, y_train)\n",
    "            y_pred = fs_pipeline.predict(X_val)\n",
    "            f1_scores.append(f1_score(y_val, y_pred))\n",
    "\n",
    "        results.append((k, np.mean(f1_scores)))\n",
    "\n",
    "    return results\n",
    "\n"
   ]
  },
  {
   "cell_type": "code",
   "execution_count": 54,
   "metadata": {},
   "outputs": [
    {
     "name": "stdout",
     "output_type": "stream",
     "text": [
      "Training with 5 number of features...\n",
      "Training with 10 number of features...\n",
      "Training with 15 number of features...\n",
      "Training with 20 number of features...\n",
      "Training with 25 number of features...\n",
      "Training with 30 number of features...\n",
      "Training with 35 number of features...\n",
      "Training with 40 number of features...\n",
      "Training with 45 number of features...\n",
      "Training with 50 number of features...\n",
      "Training with 55 number of features...\n",
      "Training with 60 number of features...\n",
      "Training with 65 number of features...\n",
      "Training with 70 number of features...\n"
     ]
    },
    {
     "data": {
      "image/png": "[encoded data removed]",
      "text/plain": [
       "<Figure size 800x500 with 1 Axes>"
      ]
     },
     "metadata": {},
     "output_type": "display_data"
    }
   ],
   "source": [
    "cv_splits = list(time_series_cv_splits(train_df, warmup=12, n_splits=30, window_type=\"expanding\"))\n",
    "results = feature_selection_curve_with_pipeline(catboost_best_estimator, X_train_clf, y_train_clf, cv_splits, step=5)\n",
    "\n",
    "ks, f1s = zip(*results)\n",
    "plt.figure(figsize=(8,5))\n",
    "plt.plot(ks, f1s, marker=\"o\")\n",
    "plt.xlabel(\"Number of features\")\n",
    "plt.ylabel(\"Mean F1 Score\")\n",
    "plt.title(\"Feature Selection Curve (CatBoost + Pipeline)\")\n",
    "plt.show()"
   ]
  },
  {
   "cell_type": "code",
   "execution_count": 55,
   "metadata": {},
   "outputs": [
    {
     "data": {
      "text/plain": [
       "[(5, np.float64(0.7952489339802715)),\n",
       " (10, np.float64(0.8484366272417816)),\n",
       " (15, np.float64(0.8565604611557265)),\n",
       " (20, np.float64(0.8583107093530766)),\n",
       " (25, np.float64(0.854997379178542)),\n",
       " (30, np.float64(0.8558853753768247)),\n",
       " (35, np.float64(0.8566943997954211)),\n",
       " (40, np.float64(0.8567649044656471)),\n",
       " (45, np.float64(0.8548488039929866)),\n",
       " (50, np.float64(0.8559893508707493)),\n",
       " (55, np.float64(0.8565286772438436)),\n",
       " (60, np.float64(0.8549936758057998)),\n",
       " (65, np.float64(0.8557140080637891)),\n",
       " (70, np.float64(0.8580862091822667))]"
      ]
     },
     "execution_count": 55,
     "metadata": {},
     "output_type": "execute_result"
    }
   ],
   "source": [
    "results"
   ]
  },
  {
   "cell_type": "code",
   "execution_count": 56,
   "metadata": {},
   "outputs": [
    {
     "data": {
      "text/plain": [
       "(20, np.float64(0.8583107093530766))"
      ]
     },
     "execution_count": 56,
     "metadata": {},
     "output_type": "execute_result"
    }
   ],
   "source": [
    "max(results, key=lambda x: x[1])"
   ]
  },
  {
   "cell_type": "markdown",
   "metadata": {},
   "source": [
    "The best F1-score is achieved when using the top 30 features. However, this performance is nearly identical to when the number of features is 20. A closer look shows that the model improves sharply when using the first 10 features, and continues to increase until around 20 features. Beyond this point, the F1-score fluctuates around ~0.85 without meaningful gains.\n",
    "\n",
    "Therefore, we select the top 20 features, which provides strong performance while greatly reducing model complexity."
   ]
  },
  {
   "cell_type": "markdown",
   "metadata": {},
   "source": [
    "## 8. Final Ensemble Model\n",
    "\n",
    "From the validation results, we observed that all tuned models achieved similar F1-scores, with some models performing slightly better than others in certain cases. However, relying on a single model risks misclassifying instances where another model might have been correct.\n",
    "\n",
    "To address this, we build an ensemble model, which aggregates predictions from all models instead of depending on just one. By combining their strengths, the ensemble reduces variance, improves robustness, and increases the chance of making correct predictions. This serves as our final model for predicting the label."
   ]
  },
  {
   "cell_type": "code",
   "execution_count": 57,
   "metadata": {},
   "outputs": [],
   "source": [
    "def create_ensemble_pipeline(X_train, top_k_features):\n",
    "    # Feature preprocessor\n",
    "    categorical_features, ordinal_features, numerical_features = get_features(X_train)\n",
    "    preprocessor = create_feature_preprocessor(categorical_features, ordinal_features, numerical_features)\n",
    "    \n",
    "    # Feature selector (top-k features)\n",
    "    importances = catboost_best_estimator.named_steps[\"model\"].get_feature_importance()\n",
    "    feature_names = catboost_best_estimator.named_steps[\"preprocessor\"].get_feature_names_out()\n",
    "    feature_selector = TopKFeatureSelector(feature_names, importances, k=top_k_features)\n",
    "    \n",
    "    # Build ensemble models\n",
    "    cat_model = catboost_best_estimator.named_steps[\"model\"]\n",
    "    xgb_model = xgb_best_estimator.named_steps[\"model\"]\n",
    "    rf_model  = rf_best_estimator.named_steps[\"model\"]\n",
    "    svm_model = svm_best_estimator.named_steps[\"model\"]\n",
    "    lr_model = logreg_best_estimator.named_steps[\"model\"]\n",
    "\n",
    "    # Voting classifier (soft = uses probabilities)\n",
    "    ensemble_model = VotingClassifier(\n",
    "        estimators=[\n",
    "            (\"cat\", cat_model),\n",
    "            (\"xgb\", xgb_model),\n",
    "            (\"rf\", rf_model),\n",
    "            (\"svm\", svm_model),\n",
    "            (\"lr\", lr_model)\n",
    "        ],\n",
    "        voting=\"soft\",  # average predicted probabilities\n",
    "        n_jobs=-1\n",
    "    )\n",
    "    \n",
    "    # Ensemble model pipeline\n",
    "    ensemble_pipeline = Pipeline(steps=[\n",
    "        (\"preprocessor\", preprocessor),\n",
    "        (\"feature_selector\", feature_selector),\n",
    "        (\"model\", ensemble_model)\n",
    "    ])\n",
    "\n",
    "    return ensemble_pipeline"
   ]
  },
  {
   "cell_type": "code",
   "execution_count": 58,
   "metadata": {},
   "outputs": [],
   "source": [
    "def evaluate_pipeline(pipeline, X, y, n_splits, warmup=12, window_type=\"expanding\"):\n",
    "    oof_preds = np.zeros(len(X))\n",
    "    scores = []\n",
    "\n",
    "    for fold, (train_idx, val_idx) in enumerate(time_series_cv_splits(X, warmup, n_splits, window_type)):\n",
    "        X_train_cv, X_val_cv = X.iloc[train_idx], X.iloc[val_idx]\n",
    "        y_train_cv, y_val_cv = y.iloc[train_idx], y.iloc[val_idx]\n",
    "\n",
    "        pipeline.fit(X_train_cv, y_train_cv)\n",
    "        preds = pipeline.predict(X_val_cv)\n",
    "        oof_preds[val_idx] = preds\n",
    "\n",
    "        f1 = f1_score(y_val_cv, preds)\n",
    "        scores.append(f1)\n",
    "        print(f\"Fold {fold+1}: F1 = {f1:.4f}\")\n",
    "\n",
    "    print(f\"\\nMean F1 score across folds: {np.mean(scores):.4f}\")\n",
    "    return pipeline, scores"
   ]
  },
  {
   "cell_type": "code",
   "execution_count": 59,
   "metadata": {},
   "outputs": [
    {
     "name": "stdout",
     "output_type": "stream",
     "text": [
      "Fold 1: F1 = 0.7419\n",
      "Fold 2: F1 = 0.9038\n",
      "Fold 3: F1 = 0.9458\n",
      "Fold 4: F1 = 0.9663\n",
      "Fold 5: F1 = 0.9247\n",
      "Fold 6: F1 = 0.9333\n",
      "Fold 7: F1 = 0.9595\n",
      "Fold 8: F1 = 0.8984\n",
      "Fold 9: F1 = 0.7841\n",
      "Fold 10: F1 = 0.8571\n",
      "Fold 11: F1 = 0.8000\n",
      "Fold 12: F1 = 0.9471\n",
      "Fold 13: F1 = 0.8894\n",
      "Fold 14: F1 = 0.9418\n",
      "Fold 15: F1 = 0.8703\n",
      "Fold 16: F1 = 0.8791\n",
      "Fold 17: F1 = 0.9133\n",
      "Fold 18: F1 = 0.8501\n",
      "Fold 19: F1 = 0.9116\n",
      "Fold 20: F1 = 0.5842\n",
      "Fold 21: F1 = 0.5000\n",
      "Fold 22: F1 = 0.8864\n",
      "Fold 23: F1 = 0.9652\n",
      "Fold 24: F1 = 0.3920\n",
      "Fold 25: F1 = 0.8764\n",
      "Fold 26: F1 = 0.8934\n",
      "Fold 27: F1 = 0.9281\n",
      "Fold 28: F1 = 0.9026\n",
      "Fold 29: F1 = 0.9415\n",
      "Fold 30: F1 = 0.8466\n",
      "\n",
      "Mean F1 score across folds: 0.8545\n"
     ]
    }
   ],
   "source": [
    "# Train an ensemble model with top 20 features we got from the feature importance\n",
    "ensemble_pipeline = create_ensemble_pipeline(X_train_clf, top_k_features=20)\n",
    "ensemble_pipeline, ensemble_scores = evaluate_pipeline(ensemble_pipeline, X_train_clf, y_train_clf, n_splits=30)"
   ]
  },
  {
   "cell_type": "markdown",
   "metadata": {},
   "source": [
    "We can save our final ensemble model for future predictions."
   ]
  },
  {
   "cell_type": "code",
   "execution_count": 60,
   "metadata": {},
   "outputs": [],
   "source": [
    "with open(\"../files/models/classification/final_voting_classifier.pkl\", \"wb\") as f:\n",
    "    pickle.dump(ensemble_pipeline, f)"
   ]
  },
  {
   "cell_type": "markdown",
   "metadata": {},
   "source": [
    "Now, let's try predicting the `outperform_binary` label using the saved ensemble model on the test set."
   ]
  },
  {
   "cell_type": "code",
   "execution_count": 61,
   "metadata": {},
   "outputs": [
    {
     "name": "stderr",
     "output_type": "stream",
     "text": [
      "C:\\Users\\Archel\\AppData\\Local\\Temp\\ipykernel_4584\\2530654702.py:5: SettingWithCopyWarning: \n",
      "A value is trying to be set on a copy of a slice from a DataFrame.\n",
      "Try using .loc[row_indexer,col_indexer] = value instead\n",
      "\n",
      "See the caveats in the documentation: https://pandas.pydata.org/pandas-docs/stable/user_guide/indexing.html#returning-a-view-versus-a-copy\n",
      "  submission_df[\"outperform_binary\"] = ensemble_pipeline.predict(X_test_clf)\n"
     ]
    },
    {
     "data": {
      "text/html": [
       "<div>\n",
       "<style scoped>\n",
       "    .dataframe tbody tr th:only-of-type {\n",
       "        vertical-align: middle;\n",
       "    }\n",
       "\n",
       "    .dataframe tbody tr th {\n",
       "        vertical-align: top;\n",
       "    }\n",
       "\n",
       "    .dataframe thead th {\n",
       "        text-align: right;\n",
       "    }\n",
       "</style>\n",
       "<table border=\"1\" class=\"dataframe\">\n",
       "  <thead>\n",
       "    <tr style=\"text-align: right;\">\n",
       "      <th></th>\n",
       "      <th>month_id</th>\n",
       "      <th>stock_id</th>\n",
       "      <th>outperform_binary</th>\n",
       "    </tr>\n",
       "  </thead>\n",
       "  <tbody>\n",
       "    <tr>\n",
       "      <th>25618</th>\n",
       "      <td>2023_07</td>\n",
       "      <td>US001</td>\n",
       "      <td>0</td>\n",
       "    </tr>\n",
       "    <tr>\n",
       "      <th>25619</th>\n",
       "      <td>2023_07</td>\n",
       "      <td>US002</td>\n",
       "      <td>0</td>\n",
       "    </tr>\n",
       "    <tr>\n",
       "      <th>25620</th>\n",
       "      <td>2023_07</td>\n",
       "      <td>US003</td>\n",
       "      <td>0</td>\n",
       "    </tr>\n",
       "    <tr>\n",
       "      <th>25621</th>\n",
       "      <td>2023_07</td>\n",
       "      <td>US004</td>\n",
       "      <td>1</td>\n",
       "    </tr>\n",
       "    <tr>\n",
       "      <th>25622</th>\n",
       "      <td>2023_07</td>\n",
       "      <td>US005</td>\n",
       "      <td>1</td>\n",
       "    </tr>\n",
       "  </tbody>\n",
       "</table>\n",
       "</div>"
      ],
      "text/plain": [
       "      month_id stock_id  outperform_binary\n",
       "25618  2023_07    US001                  0\n",
       "25619  2023_07    US002                  0\n",
       "25620  2023_07    US003                  0\n",
       "25621  2023_07    US004                  1\n",
       "25622  2023_07    US005                  1"
      ]
     },
     "execution_count": 61,
     "metadata": {},
     "output_type": "execute_result"
    }
   ],
   "source": [
    "with open(\"../files/models/classification/final_voting_classifier.pkl\", 'rb') as file:\n",
    "    ensemble_pipeline = pickle.load(file)\n",
    "\n",
    "submission_df = X_test_clf[[\"month_id\", \"stock_id\"]]\n",
    "submission_df[\"outperform_binary\"] = ensemble_pipeline.predict(X_test_clf)\n",
    "submission_df.head()"
   ]
  },
  {
   "cell_type": "code",
   "execution_count": 62,
   "metadata": {},
   "outputs": [
    {
     "data": {
      "text/plain": [
       "outperform_binary\n",
       "0    481\n",
       "1    135\n",
       "Name: count, dtype: int64"
      ]
     },
     "execution_count": 62,
     "metadata": {},
     "output_type": "execute_result"
    }
   ],
   "source": [
    "submission_df[\"outperform_binary\"].value_counts()"
   ]
  },
  {
   "cell_type": "code",
   "execution_count": null,
   "metadata": {},
   "outputs": [],
   "source": []
  }
 ],
 "metadata": {
  "kernelspec": {
   "display_name": "fit5149",
   "language": "python",
   "name": "python3"
  },
  "language_info": {
   "codemirror_mode": {
    "name": "ipython",
    "version": 3
   },
   "file_extension": ".py",
   "mimetype": "text/x-python",
   "name": "python",
   "nbconvert_exporter": "python",
   "pygments_lexer": "ipython3",
   "version": "3.10.18"
  }
 },
 "nbformat": 4,
 "nbformat_minor": 2
}
